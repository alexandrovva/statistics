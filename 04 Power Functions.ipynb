{
 "cells": [
  {
   "cell_type": "markdown",
   "id": "0dbe10a6-4991-4401-ac0f-9c55398f8d7d",
   "metadata": {},
   "source": [
    "# Power Functions"
   ]
  },
  {
   "cell_type": "code",
   "execution_count": 1,
   "id": "46feff0b-f9ef-45f3-9db9-2eb2d367afd0",
   "metadata": {},
   "outputs": [],
   "source": [
    "import pandas as pd\n",
    "import numpy as np\n",
    "import matplotlib.pyplot as plt\n",
    "from scipy import stats"
   ]
  },
  {
   "cell_type": "markdown",
   "id": "b740c49f-71e6-4041-8e51-7c2390bc21b7",
   "metadata": {},
   "source": [
    "Let $\\theta$ be the parameter to be tested (e. g. $\\mu$ or $p$). Then the function\n",
    "\n",
    "$$\n",
    "g(\\theta) = P(H_0 \\text{ rejected | } \\theta \\text{ is the true parameter})\n",
    "$$\n",
    "\n",
    "is called the power function of the test"
   ]
  },
  {
   "cell_type": "code",
   "execution_count": 28,
   "id": "106cf091-fa77-4a04-bb3a-d67ad1c7ee17",
   "metadata": {},
   "outputs": [
    {
     "data": {
      "image/png": "[encoded data removed]",
      "text/plain": [
       "<Figure size 432x288 with 1 Axes>"
      ]
     },
     "metadata": {
      "needs_background": "light"
     },
     "output_type": "display_data"
    }
   ],
   "source": [
    "x = stats.norm(100, 5).rvs(100)\n",
    "mu = 100\n",
    "n = x.shape[0]\n",
    "\n",
    "alpha = 0.05\n",
    "c = stats.t(n - 1).ppf(1 - alpha)  # rejection area - right-sided\n",
    "\n",
    "s = np.std(x, ddof=1)  # Standard deviation from data\n",
    "\n",
    "theta = np.linspace(95, 105, 100)\n",
    "rhs = c + (mu - theta) / (s / np.sqrt(n))\n",
    "p = 1 - stats.t(n - 1).cdf(rhs)\n",
    "\n",
    "plt.plot(theta, p)\n",
    "plt.title(\"Power function\")\n",
    "plt.xlabel(\"value\")\n",
    "plt.ylabel(\"Power\")\n",
    "plt.grid()\n",
    "plt.show()"
   ]
  },
  {
   "cell_type": "markdown",
   "id": "924c1176-74e9-4163-8eaf-fcebb4cffcd8",
   "metadata": {},
   "source": [
    "- The power function $g(\\theta)$ is the probability that a test detects that $H_0$ is not true if the the true parameter is $\\theta$\n",
    "- $1 - g(\\theta)$ is the error of second kind, if the alternative hypothesis is $\\theta$\n",
    "\n",
    "\n",
    "> The power $g(\\theta)$ can be used in order to design experiments: For a given standard devation $s_x$, how many measurements n are necessary, such that an alternative $\\theta$ can be told from the null-hypothesis with a probability of $1 - \\beta$?"
   ]
  },
  {
   "cell_type": "code",
   "execution_count": null,
   "id": "8e6c84d1-9b01-42cb-bd15-d9e0a09e85fb",
   "metadata": {},
   "outputs": [],
   "source": []
  }
 ],
 "metadata": {
  "kernelspec": {
   "display_name": "Python 3 (ipykernel)",
   "language": "python",
   "name": "python3"
  },
  "language_info": {
   "codemirror_mode": {
    "name": "ipython",
    "version": 3
   },
   "file_extension": ".py",
   "mimetype": "text/x-python",
   "name": "python",
   "nbconvert_exporter": "python",
   "pygments_lexer": "ipython3",
   "version": "3.9.13"
  }
 },
 "nbformat": 4,
 "nbformat_minor": 5
}
