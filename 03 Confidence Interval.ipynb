{
 "cells": [
  {
   "cell_type": "markdown",
   "id": "b0b5b81c-2e57-4731-9233-f82e95ab8a23",
   "metadata": {},
   "source": [
    "# Confidence Intervals"
   ]
  },
  {
   "cell_type": "code",
   "execution_count": 1,
   "id": "1ec5d2b0-ad8f-400f-aab9-6847992e40ff",
   "metadata": {},
   "outputs": [],
   "source": [
    "import pandas as pd\n",
    "import numpy as np\n",
    "import matplotlib.pyplot as plt\n",
    "from scipy import stats"
   ]
  },
  {
   "cell_type": "markdown",
   "id": "aeac75d4-13f2-46b9-8e66-d6a7f376e3ea",
   "metadata": {},
   "source": [
    "## Compute confidence interval with known standard deviation\n",
    "\n",
    "Let $X_1, \\dots, X_n$ be independent measurements with $X_i \\sim N(\\mu, \\sigma^2)$, where $\\sigma^2$ is known and $\\theta = \\mu$ should be estimated from the data. Then\n",
    "\n",
    "$$\n",
    "\\begin{split}\n",
    "\\hat{\\theta}_L &= \\bar{X} - z_{1 - \\frac{\\alpha}{2}} * \\frac{\\sigma}{\\sqrt{n}} \\\\\n",
    "\\hat{\\theta}_U &= \\bar{X} + z_{1 - \\frac{\\alpha}{2}} * \\frac{\\sigma}{\\sqrt{n}}\n",
    "\\end{split}\n",
    "$$\n",
    "\n",
    "The length of the interval can be computed as follows\n",
    "\n",
    "$$\n",
    "l(\\alpha, n) = \\hat{\\theta}_U - \\hat{\\theta}_L = 2 * \\sigma * \\frac{z_{1 - \\frac{\\alpha}{2}}}{\\sqrt{n}}\n",
    "$$"
   ]
  },
  {
   "cell_type": "code",
   "execution_count": 2,
   "id": "688cac32-3f40-4616-972b-5c6ffa90c154",
   "metadata": {},
   "outputs": [
    {
     "name": "stdout",
     "output_type": "stream",
     "text": [
      "Confidence interval: [0.9834028507512727; 1.0226021304420738]\n"
     ]
    }
   ],
   "source": [
    "n = 100  # Number of measurements\n",
    "sigma = 0.1  # Known standard deviation\n",
    "alpha = 0.05  # Significance level\n",
    "mu0 = 1  # Average of the population\n",
    "\n",
    "x = stats.norm(mu0, sigma).rvs(n)\n",
    "x_mean = np.mean(x)\n",
    "\n",
    "z = stats.norm().ppf(1 - alpha / 2)\n",
    "\n",
    "lo = x_mean - z * sigma / np.sqrt(n)\n",
    "up = x_mean + z * sigma / np.sqrt(n)\n",
    "\n",
    "print(f\"Confidence interval: [{lo}; {up}]\")"
   ]
  },
  {
   "cell_type": "code",
   "execution_count": 3,
   "id": "b89edbd4-6c9a-4f84-9654-1fa907ae372c",
   "metadata": {},
   "outputs": [
    {
     "name": "stdout",
     "output_type": "stream",
     "text": [
      "0.03919927969080117 0.03919927969080108\n"
     ]
    }
   ],
   "source": [
    "# length of the confidence interval\n",
    "length_1 = up - lo\n",
    "length_2 = 2 * sigma * z / np.sqrt(n)\n",
    "\n",
    "print(length_1, length_2)"
   ]
  },
  {
   "cell_type": "markdown",
   "id": "fde759f8-d3c2-4dfb-b48c-157cf0c7fc5d",
   "metadata": {},
   "source": [
    "## Compute confidence interval with unknown standard deviation\n",
    "\n",
    "Let $X_1, \\dots, X_n$ be independent measurements with $X_i \\sim N(\\mu, \\sigma^2)$, where $\\sigma^2$ is unknown and $\\theta = \\mu$ has to be estimated from the data. Then\n",
    "\n",
    "$$\n",
    "\\begin{split}\n",
    "\\hat{\\theta}_L = \\bar{X} - t_{1 - \\frac{\\alpha}{2}; n - 1} * \\frac{s_x}{\\sqrt{n}} \\\\\n",
    "\\hat{\\theta}_U = \\bar{X} + t_{1 - \\frac{\\alpha}{2}; n - 1} * \\frac{s_x}{\\sqrt{n}}\n",
    "\\end{split}\n",
    "$$\n",
    "\n",
    "where\n",
    "$$\n",
    "s_x = \\sqrt{\\frac{1}{n - 1} * \\sum_{i=1}^n(X_i - \\bar{X})^2}\n",
    "$$\n",
    "\n",
    "The length of the interval can be computed as follows\n",
    "\n",
    "$$\n",
    "l(\\alpha, n) = \\hat{\\theta}_U - \\hat{\\theta}_L = 2 * s_x * \\frac{t_{1 - \\frac{\\alpha}{2}; n - 1}}{\\sqrt{n}} = 2 * \\sqrt{\\frac{1}{n - 1} * \\sum_{i=1}^n(X_i - \\bar{X})^2} * \\frac{t_{1 - \\frac{\\alpha}{2}; n - 1}}{\\sqrt{n}}\n",
    "$$"
   ]
  },
  {
   "cell_type": "code",
   "execution_count": 4,
   "id": "23713d07-b526-4121-8c87-070e97776b95",
   "metadata": {},
   "outputs": [
    {
     "name": "stdout",
     "output_type": "stream",
     "text": [
      "Confidence interval: [0.9270880963847782; 1.0068578615614334]\n"
     ]
    }
   ],
   "source": [
    "n = 100  # Numbers of measurements\n",
    "alpha = 0.05  # Significance level\n",
    "mu0 = 1  # Average of the population\n",
    "\n",
    "x = stats.norm(mu0, 0.2).rvs(n)\n",
    "x_mean = np.mean(x)\n",
    "\n",
    "t = stats.t(n - 1).ppf(1 - alpha / 2)\n",
    "sx = np.sqrt(1 / (n - 1) * np.sum((x - x_mean) ** 2)) or np.std(x, ddof=1)\n",
    "\n",
    "lo = x_mean - t * sx / np.sqrt(n)\n",
    "up = x_mean + t * sx / np.sqrt(n)\n",
    "\n",
    "print(f\"Confidence interval: [{lo}; {up}]\")"
   ]
  },
  {
   "cell_type": "code",
   "execution_count": 5,
   "id": "c22327be-68b7-4e8b-826f-e5bd95bd71ae",
   "metadata": {},
   "outputs": [
    {
     "name": "stdout",
     "output_type": "stream",
     "text": [
      "0.07976976517665524 0.07976976517665525\n"
     ]
    }
   ],
   "source": [
    "# length of the confidence interval\n",
    "length_1 = up - lo\n",
    "length_2 = 2 * np.std(x, ddof=1) * t / np.sqrt(n)\n",
    "\n",
    "print(length_1, length_2)"
   ]
  },
  {
   "cell_type": "markdown",
   "id": "779726db-6577-49b8-a7ca-6bb89343a4fc",
   "metadata": {},
   "source": [
    "**Why can the normal distribution be used for calculating the confidence interval?**\n",
    "\n",
    "\n",
    "When computing a confidence interval, we only use the distribution of the mean of the data to construct the bounds. The central limit theorem tells us, that the distribution of the mean of a sample will be more and more normally distributed the larger the sample size gets."
   ]
  },
  {
   "cell_type": "code",
   "execution_count": null,
   "id": "bddcbeba-c150-40fe-9418-b673d61356f5",
   "metadata": {},
   "outputs": [],
   "source": []
  }
 ],
 "metadata": {
  "kernelspec": {
   "display_name": "Python 3 (ipykernel)",
   "language": "python",
   "name": "python3"
  },
  "language_info": {
   "codemirror_mode": {
    "name": "ipython",
    "version": 3
   },
   "file_extension": ".py",
   "mimetype": "text/x-python",
   "name": "python",
   "nbconvert_exporter": "python",
   "pygments_lexer": "ipython3",
   "version": "3.9.13"
  }
 },
 "nbformat": 4,
 "nbformat_minor": 5
}
