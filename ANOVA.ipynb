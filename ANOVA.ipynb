{
 "cells": [
  {
   "cell_type": "code",
   "execution_count": 1,
   "id": "ea266d4d-f177-4050-9957-9d8442650aef",
   "metadata": {},
   "outputs": [],
   "source": [
    "import pandas as pd\n",
    "import numpy as np\n",
    "import matplotlib.pyplot as plt\n",
    "from scipy import stats"
   ]
  },
  {
   "cell_type": "markdown",
   "id": "3c95bb7a-b74b-4485-b034-c005b0c89f55",
   "metadata": {},
   "source": [
    "# ANOVA - Theory\n",
    "\n",
    "## One-factor model\n",
    "\n",
    "$$\n",
    "Y_{ij} = \\mu + \\tau_i + \\epsilon_{ij}\n",
    "$$\n",
    "\n",
    "- The global mean $\\mu$ is independent of the factor variable\n",
    "- The $i$-th factor effect $\\tau_i$ describes the influence of the factor level $i$ on the response variable\n",
    "- The term $\\epsilon_{ij}$ constitutes the random error.\n",
    "\n",
    "**Assumptions about the error**\n",
    "\n",
    "- Independend and normally distributed\n",
    "- Have a mean of 0\n",
    "- All errors have the same variance $\\sigma^2$"
   ]
  },
  {
   "cell_type": "markdown",
   "id": "d04a849f-5a03-43f9-831e-37753db5ceae",
   "metadata": {},
   "source": [
    "## Hypothesis\n",
    "\n",
    "$$\n",
    "H_0: \\tau_1 = \\tau_2 = \\dots = \\tau_k = 0\n",
    "$$\n",
    "$$\n",
    "H_1: \\text{ There is at least one } i \\text{ such that } \\tau_i \\neq 0\n",
    "$$"
   ]
  },
  {
   "cell_type": "markdown",
   "id": "03ad10eb-f896-4571-b822-3ac403eb8607",
   "metadata": {},
   "source": [
    "## Test statistic\n",
    "\n",
    "$$\n",
    "\\begin{align}\n",
    "SS_T &= SS_{Treat} + SS_E \\\\\n",
    "SS_T &= \\sum_{i = 1}^k \\sum_{j = 1}^n (y_{ij} - \\bar{y}_{..})^2 \\\\\n",
    "SS_T &= n * \\sum_{i=1}^k (\\bar{y}_{i.} - \\bar{y}_{..})^2 + \\sum_{i=1}^k \\sum_{j=1}^n(y_{ij} - \\bar{y}_{i.})^2\n",
    "\\end{align}\n",
    "$$\n",
    "\n",
    "where $\\bar{y}_{i.}$ is the group mean and $\\bar{y}_{..}$ is the grand mean"
   ]
  },
  {
   "cell_type": "markdown",
   "id": "8c0f9770-ab7f-49d7-926d-7d65a9a46d93",
   "metadata": {},
   "source": [
    "## ANOVA - Analysis of variance\n",
    "\n",
    "$$\n",
    "\\begin{align}\n",
    "MS_{Treat} &= \\frac{1}{k-1} * SS_{Treat} \\\\\n",
    "MS_{E} &= \\frac{1}{k(n-1)} * SS_E \\\\\n",
    "F &= \\frac{MS_{Treat}}{MS_E}\n",
    "\\end{align}\n",
    "$$\n"
   ]
  },
  {
   "cell_type": "markdown",
   "id": "4faa2f13-6ae3-4d75-8364-5de4ee76af93",
   "metadata": {},
   "source": [
    "## Estimation of effects\n",
    "\n",
    "- Estimation of the global mean $\\mu$ $$\\hat{\\mu} = \\frac{1}{k*n} \\sum_{i=1}^k \\sum_{j = 1}^n y_{ij}$$\n",
    "- Estimation for the group means $$\\hat{\\mu}_i = \\frac{1}{n} \\sum_{j = 1}^n y_{ij}$$\n",
    "- Calculate estimators for the treatments $\\tau_i$ $$\\hat{\\tau}_i = \\hat{\\mu}_i - \\hat{\\mu}$$"
   ]
  },
  {
   "cell_type": "markdown",
   "id": "daf4d8ed-9fb5-4745-a982-0fd4e477437e",
   "metadata": {},
   "source": [
    "## Analysis of residuals\n",
    "\n",
    "$$\n",
    "e_{ij} = y_{ij} - \\hat{\\mu} - \\hat{\\tau}_i = y_{ij} - y_i\n",
    "$$\n",
    "\n",
    "The residuals $e_{ij}$ have the following properties\n",
    "\n",
    "- Mean of 0\n",
    "- Residuals grouped according to the factor level have an equal variance $\\sigma^2$\n",
    "- Residuals are approximately normally distributed"
   ]
  },
  {
   "cell_type": "code",
   "execution_count": 2,
   "id": "03dbb98c-8d13-49b4-8d44-f4bf6c3c1ef8",
   "metadata": {},
   "outputs": [],
   "source": [
    "def anova_from_df(df: pd.DataFrame, alpha: float) -> None:\n",
    "    \"\"\"\n",
    "    Analysis of variance based on a given DataFrame where the columns\n",
    "    represent the k different groups (factors) and the rows the n\n",
    "    different observations (replicates).\n",
    "    The function calculates all the different parameters and shows the\n",
    "    graphical visualization of the data.\n",
    "    \n",
    "    Args:\n",
    "        df (pd.DataFrame): DataFrame with the data\n",
    "        alpha (float): Level of significance. E. g. 0.05 for alpha=5%\n",
    "    \"\"\"\n",
    "    arr = df.to_numpy()\n",
    "    k = arr.shape[1]\n",
    "    n = arr.shape[0]\n",
    "    group_mean = arr.mean(axis=0)\n",
    "    grand_mean = np.mean(group_mean)\n",
    "    \n",
    "    ss_treat = n * np.sum((group_mean - grand_mean) ** 2)\n",
    "    ss_e = np.sum([np.sum((arr[:, i] - group_mean[i]) ** 2) for i in range(k)])\n",
    "    ss_t = ss_treat + ss_e\n",
    "    ms_treat = 1 / (k - 1) * ss_treat\n",
    "    ms_e = 1 / (k * (n - 1)) * ss_e\n",
    "    f = ms_treat / ms_e\n",
    "    \n",
    "    p_value = 1 - stats.f(k - 1, k * (n - 1)).cdf(f)\n",
    "    is_significant = p_value < alpha\n",
    "    \n",
    "    tau = group_mean - grand_mean\n",
    "    \n",
    "    # Check the residuals\n",
    "    r = arr - group_mean\n",
    "    \n",
    "    fig, ax = plt.subplots(2, 2, figsize=(10, 10))\n",
    "    ax[0, 0].boxplot(arr, patch_artist=True, labels=df.columns)\n",
    "    ax[0, 0].set_title(\"Boxplot of raw data\")\n",
    "    ax[0, 0].grid()\n",
    "    \n",
    "    stats.probplot(arr.reshape(-1), plot=ax[0, 1], dist=stats.distributions.norm)\n",
    "    ax[0, 1].set_title(\"Q-Q-plot of raw data\")\n",
    "    ax[0, 1].grid()\n",
    "    \n",
    "    ax[1, 0].boxplot(r, patch_artist=True, labels=df.columns)\n",
    "    ax[1, 0].set_title(\"Boxplots of residuals\")\n",
    "    ax[1, 0].grid()\n",
    "    \n",
    "    stats.probplot(r.reshape(-1), plot=ax[1, 1], dist=stats.distributions.norm)\n",
    "    ax[1, 1].set_title(\"Q-Q-plot of residuals (normality)\")\n",
    "    ax[1, 1].grid()\n",
    "    \n",
    "    plt.subplots_adjust(hspace=0.25)\n",
    "    \n",
    "    print(\"ANOVA RESULTS\\n\")\n",
    "    print(f\"SSt     = {ss_t}\")\n",
    "    print(f\"SStreat = {ss_treat}\")\n",
    "    print(f\"SSe     = {ss_e}\")\n",
    "    print(f\"MStreat = {ms_treat}\")\n",
    "    print(f\"MSe     = {ms_e}\")\n",
    "    print(f\"F       = {f}\")\n",
    "    print(f\"p-value = {p_value}\")\n",
    "    print(f\"taus    = {tau}\")\n",
    "    print(f\"Grand µ = {grand_mean}\")\n",
    "\n",
    "    if is_significant:\n",
    "        print(\"There is a significant difference between the groups\\n\")\n",
    "    else:\n",
    "        print(\"There is no significant difference between the groups\\n\")\n",
    "        \n",
    "    print(\"GRAPHICAL VISUALIZATION\")\n",
    "    plt.show()"
   ]
  },
  {
   "cell_type": "code",
   "execution_count": 3,
   "id": "27a4e5ae-964a-48ee-831c-27fa23585d5c",
   "metadata": {},
   "outputs": [],
   "source": [
    "path = \"Viagra.txt\""
   ]
  },
  {
   "cell_type": "code",
   "execution_count": 4,
   "id": "c3b25f19-e5f4-4929-a28d-d636f5366c74",
   "metadata": {},
   "outputs": [
    {
     "data": {
      "text/html": [
       "<div>\n",
       "<style scoped>\n",
       "    .dataframe tbody tr th:only-of-type {\n",
       "        vertical-align: middle;\n",
       "    }\n",
       "\n",
       "    .dataframe tbody tr th {\n",
       "        vertical-align: top;\n",
       "    }\n",
       "\n",
       "    .dataframe thead th {\n",
       "        text-align: right;\n",
       "    }\n",
       "</style>\n",
       "<table border=\"1\" class=\"dataframe\">\n",
       "  <thead>\n",
       "    <tr style=\"text-align: right;\">\n",
       "      <th></th>\n",
       "      <th>Placebo</th>\n",
       "      <th>LowDose</th>\n",
       "      <th>HighDose</th>\n",
       "    </tr>\n",
       "  </thead>\n",
       "  <tbody>\n",
       "    <tr>\n",
       "      <th>0</th>\n",
       "      <td>3</td>\n",
       "      <td>5</td>\n",
       "      <td>7</td>\n",
       "    </tr>\n",
       "    <tr>\n",
       "      <th>1</th>\n",
       "      <td>2</td>\n",
       "      <td>2</td>\n",
       "      <td>4</td>\n",
       "    </tr>\n",
       "    <tr>\n",
       "      <th>2</th>\n",
       "      <td>1</td>\n",
       "      <td>4</td>\n",
       "      <td>5</td>\n",
       "    </tr>\n",
       "    <tr>\n",
       "      <th>3</th>\n",
       "      <td>1</td>\n",
       "      <td>2</td>\n",
       "      <td>3</td>\n",
       "    </tr>\n",
       "    <tr>\n",
       "      <th>4</th>\n",
       "      <td>4</td>\n",
       "      <td>3</td>\n",
       "      <td>6</td>\n",
       "    </tr>\n",
       "  </tbody>\n",
       "</table>\n",
       "</div>"
      ],
      "text/plain": [
       "   Placebo  LowDose  HighDose\n",
       "0        3        5         7\n",
       "1        2        2         4\n",
       "2        1        4         5\n",
       "3        1        2         3\n",
       "4        4        3         6"
      ]
     },
     "execution_count": 4,
     "metadata": {},
     "output_type": "execute_result"
    }
   ],
   "source": [
    "df = pd.read_csv(path)\n",
    "df.head()"
   ]
  },
  {
   "cell_type": "code",
   "execution_count": 5,
   "id": "d9bfcf71-258e-4218-9f9d-abe593240c7d",
   "metadata": {},
   "outputs": [
    {
     "name": "stdout",
     "output_type": "stream",
     "text": [
      "ANOVA RESULTS\n",
      "\n",
      "SSt     = 43.733333333333334\n",
      "SStreat = 20.133333333333333\n",
      "SSe     = 23.6\n",
      "MStreat = 10.066666666666666\n",
      "MSe     = 1.9666666666666668\n",
      "F       = 5.11864406779661\n",
      "p-value = 0.024694289538222614\n",
      "taus    = [-1.26666667 -0.26666667  1.53333333]\n",
      "Grand µ = 3.466666666666667\n",
      "There is a significant difference between the groups\n",
      "\n",
      "GRAPHICAL VISUALIZATION\n"
     ]
    },
    {
     "data": {
      "image/png": "[encoded data removed]",
      "text/plain": [
       "<Figure size 720x720 with 4 Axes>"
      ]
     },
     "metadata": {
      "needs_background": "light"
     },
     "output_type": "display_data"
    }
   ],
   "source": [
    "anova_from_df(df, 0.05)"
   ]
  },
  {
   "cell_type": "code",
   "execution_count": 6,
   "id": "941a5683-cdcb-47a3-8339-d2e91cf68930",
   "metadata": {},
   "outputs": [],
   "source": [
    "def anova_from_data(nb_groups: int,\n",
    "                    nb_replicats: int,\n",
    "                    group_sum: np.ndarray,\n",
    "                    group_means: np.ndarray,\n",
    "                    grand_mean: float,\n",
    "                    squared_diff: np.ndarray,\n",
    "                    ss_t: float = None,\n",
    "                    ss_e: float = None,\n",
    "                    alpha: float = 0.05) -> None:\n",
    "    \"\"\"\n",
    "    Function calculates the ANOVA based on certain parameters\n",
    "    from the data\n",
    "    \n",
    "    Args:\n",
    "        nb_groups (int): Number of groups. Refers to k.\n",
    "        nb_replicats (int): Number of values per group. Refers to n.\n",
    "        group_sum (np.ndarray): Sum of the different groups\n",
    "        group_means (np.ndarray): Mean values of the different groups\n",
    "        grand_mean (np.ndarray): Overall average of the test-score\n",
    "        squared_diff (np.ndarray): Squared differences between\n",
    "            the group mean and the grand mean\n",
    "        ss_t (float): Total sum of squared. (Defaults to None).\n",
    "        ss_e (float): Squared sum of errors. (Defaults to None).\n",
    "        alpha (float): Level of significance. (Defaults to 0.05).\n",
    "    \n",
    "    Remarks:\n",
    "        Either ss_t or ss_e must be given\n",
    "    \"\"\"\n",
    "    assert group_sum.shape == group_means.shape == squard_diff.shape, \\\n",
    "        \"The number of values in the arrays must be identical\"\n",
    "\n",
    "    assert ss_t or ss_e, \"Either SSt or SSe must be given\"\n",
    "    \n",
    "    ss_treat = nb_replicats * np.sum((group_means - grand_mean) ** 2)\n",
    "    if ss_t is None:\n",
    "        ss_t = ss_treat + ss_e\n",
    "    elif ss_e is None:\n",
    "        ss_e = ss_t - ss_treat\n",
    "    \n",
    "    ms_treat = 1 / (nb_groups - 1) * ss_treat\n",
    "    ms_e = 1 / (nb_groups * (nb_replicats - 1)) * ss_e\n",
    "    f = ms_treat / ms_e\n",
    "    \n",
    "    p_value = 1 - stats.f(nb_groups - 1, nb_groups * (nb_replicats - 1)).cdf(f)\n",
    "    is_significant = p_value < alpha\n",
    "    \n",
    "    tau = group_means - grand_mean\n",
    "    \n",
    "    print(\"ANOVA RESULTS\\n\")\n",
    "    print(f\"SSt     = {ss_t}\")\n",
    "    print(f\"SStreat = {ss_treat}\")\n",
    "    print(f\"SSe     = {ss_e}\")\n",
    "    print(f\"MStreat = {ms_treat}\")\n",
    "    print(f\"MSe     = {ms_e}\")\n",
    "    print(f\"F       = {f}\")\n",
    "    print(f\"p-value = {p_value}\")\n",
    "    print(f\"taus    = {tau}\")\n",
    "    print(f\"Grand µ = {grand_mean}\")"
   ]
  },
  {
   "cell_type": "code",
   "execution_count": 7,
   "id": "8ab42185-8373-4e15-b968-8e6c9e1838b2",
   "metadata": {},
   "outputs": [],
   "source": [
    "k = 3\n",
    "n = 10\n",
    "sum_of_scores = np.array([551, 574, 700])\n",
    "mean_scores = np.array([55.1, 57.4, 70.0])\n",
    "squard_diff = np.array([29.16, 9.61, 90.25])\n",
    "grand_mean = 60.5\n",
    "ss_t = 4353.24"
   ]
  },
  {
   "cell_type": "code",
   "execution_count": 8,
   "id": "c5f0d7b1-bc97-43e3-8f9b-3875ba0b7c0b",
   "metadata": {},
   "outputs": [
    {
     "name": "stdout",
     "output_type": "stream",
     "text": [
      "ANOVA RESULTS\n",
      "\n",
      "SSt     = 4353.24\n",
      "SStreat = 1290.1999999999998\n",
      "SSe     = 3063.04\n",
      "MStreat = 645.0999999999999\n",
      "MSe     = 113.44592592592592\n",
      "F       = 5.686409580025073\n",
      "p-value = 0.008691420703784591\n",
      "taus    = [-5.4 -3.1  9.5]\n",
      "Grand µ = 60.5\n"
     ]
    }
   ],
   "source": [
    "anova_from_data(k, n, sum_of_scores, mean_scores, grand_mean, squard_diff, ss_t=ss_t, alpha=0.05)"
   ]
  },
  {
   "cell_type": "code",
   "execution_count": null,
   "id": "f72ea74b-6cad-4ecd-9fbf-368d2c22013a",
   "metadata": {},
   "outputs": [],
   "source": []
  }
 ],
 "metadata": {
  "kernelspec": {
   "display_name": "Python 3 (ipykernel)",
   "language": "python",
   "name": "python3"
  },
  "language_info": {
   "codemirror_mode": {
    "name": "ipython",
    "version": 3
   },
   "file_extension": ".py",
   "mimetype": "text/x-python",
   "name": "python",
   "nbconvert_exporter": "python",
   "pygments_lexer": "ipython3",
   "version": "3.9.13"
  }
 },
 "nbformat": 4,
 "nbformat_minor": 5
}
