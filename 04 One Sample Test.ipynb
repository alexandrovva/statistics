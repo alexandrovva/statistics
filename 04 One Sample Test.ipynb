{
 "cells": [
  {
   "cell_type": "markdown",
   "id": "ebca34ae-c860-4cee-9565-5a39c33ab233",
   "metadata": {},
   "source": [
    "# One Sample Test"
   ]
  },
  {
   "cell_type": "code",
   "execution_count": 1,
   "id": "056515ce-15a4-4316-865c-83238ef2d383",
   "metadata": {},
   "outputs": [],
   "source": [
    "import pandas as pd\n",
    "import numpy as np\n",
    "import matplotlib.pyplot as plt\n",
    "from scipy import stats"
   ]
  },
  {
   "cell_type": "markdown",
   "id": "f0a98120-c688-43f8-a70d-012732c1c1f1",
   "metadata": {},
   "source": [
    "## Hypothesis\n",
    "\n",
    "$$\n",
    "\\begin{split}\n",
    "    H_0&: \\mu = \\mu_0 \\\\\n",
    "    H_1&: \\mu > \\mu_0 \\cap H_1: \\mu < \\mu_0 \\cap H_1: \\mu \\neq \\mu_0\n",
    "\\end{split}\n",
    "$$"
   ]
  },
  {
   "cell_type": "markdown",
   "id": "3297d370-b3f1-4715-8d97-67c8126ed2ef",
   "metadata": {},
   "source": [
    "## z-Test\n",
    "\n",
    "Test statistic\n",
    "\n",
    "$$\n",
    "T = \\frac{\\bar{X} - \\mu_0}{\\frac{\\sigma}{\\sqrt{n}}}\n",
    "$$"
   ]
  },
  {
   "cell_type": "code",
   "execution_count": 2,
   "id": "963d3d23-e729-4bc2-a3ac-a1b6b38e623c",
   "metadata": {},
   "outputs": [
    {
     "name": "stdout",
     "output_type": "stream",
     "text": [
      "Test statatistic t: 2.1460272545454684\n",
      "Rejection area:     [1.6448536269514722; inf]\n",
      "Reject H0:          True\n",
      "P-Value:            0.015935402159858558\n"
     ]
    }
   ],
   "source": [
    "mu0 = 1  # Hypothesis: µ0 = 1\n",
    "sigma = 0.1  # Assume to be known\n",
    "n = 100  # Number of measurements\n",
    "\n",
    "alpha = 0.05  # Significance level\n",
    "\n",
    "c = stats.norm().ppf(1 - alpha)  # rejection area - right-sided\n",
    "\n",
    "values = stats.norm(1.02, 0.1).rvs(n)\n",
    "x_mean = np.mean(values)\n",
    "\n",
    "t = (x_mean - mu0) / (sigma / np.sqrt(n))\n",
    "\n",
    "p_value = 1 - stats.norm().cdf(t)\n",
    "\n",
    "print(f\"Test statatistic t: {t}\")\n",
    "print(f\"Rejection area:     [{c}; inf]\")\n",
    "print(f\"Reject H0:          {t > c}\")\n",
    "print(f\"P-Value:            {p_value}\")"
   ]
  },
  {
   "cell_type": "markdown",
   "id": "fbcf9a3a-90fd-4a06-96e5-2e4eb714afcf",
   "metadata": {},
   "source": [
    "## t-Test\n",
    "\n",
    "Test statistic\n",
    "\n",
    "$$\n",
    "T = \\frac{\\bar{X} - \\mu_0}{\\frac{s_x}{\\sqrt{n}}}\n",
    "$$\n",
    "\n",
    "The statistic $T$ has a student-t distribution with $n - 1$ degrees of freedom"
   ]
  },
  {
   "cell_type": "code",
   "execution_count": 7,
   "id": "c6f4b440-7cfb-4069-bb4d-9d65755b0a78",
   "metadata": {},
   "outputs": [
    {
     "name": "stdout",
     "output_type": "stream",
     "text": [
      "Test statistic t: 2.6019082042417536\n",
      "Rejection area:   1.6603911559963895\n",
      "Reject H0:        True\n",
      "P-Value:          0.004635333150248888\n"
     ]
    }
   ],
   "source": [
    "mu0 = 1  # Hypothesis: µ0 = 1\n",
    "n = 100  # Number of measurements\n",
    "alpha = 0.05  # Significance level\n",
    "\n",
    "# Generate random values\n",
    "values = stats.norm(mu0 + 0.02, 0.1).rvs(n)\n",
    "x_mean = np.mean(values)\n",
    "\n",
    "# Rejection area\n",
    "c = stats.t(n - 1).ppf(1 - alpha)\n",
    "s = np.std(values, ddof=1)\n",
    "\n",
    "t = (x_mean - mu0) / (s / np.sqrt(n))\n",
    "\n",
    "p_value = 1 - stats.norm().cdf(t)\n",
    "\n",
    "print(f\"Test statistic t: {t}\")\n",
    "print(f\"Rejection area:   {c}\")\n",
    "print(f\"Reject H0:        {t > c}\")\n",
    "print(f\"P-Value:          {p_value}\")"
   ]
  },
  {
   "cell_type": "markdown",
   "id": "64c658d2-610c-4304-b149-4a4efce87ced",
   "metadata": {},
   "source": [
    "## scipy.stats.ttest_1samp\n",
    "\n",
    "Build in function in scipy.stats package for calculating the t-test"
   ]
  },
  {
   "cell_type": "code",
   "execution_count": 10,
   "id": "29bf96e0-b7fd-426d-bfd8-a7c6af8a8504",
   "metadata": {},
   "outputs": [
    {
     "name": "stdout",
     "output_type": "stream",
     "text": [
      "Rejection area: 1.6603911559963895\n",
      "Statistic:      2.40829931379035\n",
      "P-Value:        0.008938768515980647\n",
      "Reject H0:      True\n"
     ]
    }
   ],
   "source": [
    "n = 100  # Number of measurements\n",
    "mu0 = 1  # Hypothesis: µ0 = 1\n",
    "alpha = 0.05  # Significance level\n",
    "\n",
    "values = stats.norm(1.02, 0.1).rvs(n)\n",
    "\n",
    "# Calculate rejection area\n",
    "c = stats.t(n - 1).ppf(1 - alpha)\n",
    "\n",
    "# Execute the t-test\n",
    "res = stats.ttest_1samp(values, popmean=mu0, alternative='greater')\n",
    "\n",
    "print(f\"Rejection area: {c}\")\n",
    "print(f\"Statistic:      {res[0]}\")\n",
    "print(f\"P-Value:        {res[1]}\")\n",
    "print(f\"Reject H0:      {res[0] > c}\")"
   ]
  },
  {
   "cell_type": "code",
   "execution_count": null,
   "id": "ee6d3a74-2807-41e4-8fb9-ecea723a2294",
   "metadata": {},
   "outputs": [],
   "source": []
  }
 ],
 "metadata": {
  "kernelspec": {
   "display_name": "Python 3 (ipykernel)",
   "language": "python",
   "name": "python3"
  },
  "language_info": {
   "codemirror_mode": {
    "name": "ipython",
    "version": 3
   },
   "file_extension": ".py",
   "mimetype": "text/x-python",
   "name": "python",
   "nbconvert_exporter": "python",
   "pygments_lexer": "ipython3",
   "version": "3.9.13"
  }
 },
 "nbformat": 4,
 "nbformat_minor": 5
}
