{
 "cells": [
  {
   "cell_type": "code",
   "execution_count": 1,
   "id": "ff302827-b903-47a0-aa22-b9c8e87cc1e2",
   "metadata": {},
   "outputs": [],
   "source": [
    "import pandas as pd\n",
    "import numpy as np\n",
    "import matplotlib.pyplot as plt\n",
    "from scipy import stats"
   ]
  },
  {
   "cell_type": "markdown",
   "id": "52ea3181-2197-4920-8d99-fd1d1bda0449",
   "metadata": {},
   "source": [
    "# Distribution of the empirical variance\n",
    "\n",
    "Assume that the filling volumne $X$ is normally distributed with expected value $\\mu$ and standard deviation $\\sigma$. $X$ and $\\sigma$ are unknown. We estimate the unknown variance $\\sigma^2$ with\n",
    "\n",
    "$$\n",
    "s_x^2 = \\frac{1}{n - 1} \\sum_{i = 1}^n (X_i - \\bar{X})^2\n",
    "$$\n",
    "\n",
    "and then the quantity\n",
    "\n",
    "$$\n",
    "Q = \\frac{(n - 1) * s_x^2}{\\sigma^2} = \\frac{\\sum_{i=1}^n (X_i - \\bar{X})^2}{\\sigma^2}\n",
    "$$\n",
    "\n",
    "has a known distribution. One calles it the Chi-squard ($\\chi^2$) distribution with $n - 1$ degrees of freedom"
   ]
  },
  {
   "cell_type": "markdown",
   "id": "fd50ce8b-2d7b-4f42-a8d0-b38cdb7c461c",
   "metadata": {},
   "source": [
    "# Confidence interval for standard deviation\n",
    "\n",
    "Let $X_1, \\dots, X_n$ be independent measurements with $X_i \\sim N(\\mu, \\sigma^2)$, where $\\theta = \\sigma$ should be estimated from the data. Then\n",
    "\n",
    "$$\n",
    "\\begin{align}\n",
    "\\hat{\\theta}_L &= \\frac{(n - 1)s_x^2}{q_{1 - \\frac{\\alpha}{2}}} \\\\\n",
    "\\hat{\\theta}_U &= \\frac{(n - 1)s_x^2}{q_{\\frac{\\alpha}{2}}}\n",
    "\\end{align}\n",
    "$$\n",
    "\n",
    "define a two-sided confidence interval with level $1 - \\alpha$. Here $q_{\\beta}$ is the $\\beta$-quantile of the $\\chi^2$-distribution with $n - 1$ dof."
   ]
  },
  {
   "cell_type": "code",
   "execution_count": 2,
   "id": "a416c336-f16f-44f6-a60a-c033c5965a6c",
   "metadata": {},
   "outputs": [
    {
     "data": {
      "text/plain": [
       "array([0.90770125, 1.23767567, 1.04638838, 0.8994124 , 1.02956507,\n",
       "       0.56225592, 1.08670374, 1.05022968, 1.1747637 , 1.00523278])"
      ]
     },
     "execution_count": 2,
     "metadata": {},
     "output_type": "execute_result"
    }
   ],
   "source": [
    "std = 0.1337\n",
    "x = stats.norm(1, std).rvs(100)\n",
    "x[:10]"
   ]
  },
  {
   "cell_type": "code",
   "execution_count": 3,
   "id": "deb2cfcb-9ae9-43fd-b526-a1b4ecad8e6c",
   "metadata": {},
   "outputs": [
    {
     "name": "stdout",
     "output_type": "stream",
     "text": [
      "Confidence interval: [0.013944984549628035, 0.024411345127434987]\n"
     ]
    }
   ],
   "source": [
    "alpha = 0.05\n",
    "n = len(x)\n",
    "\n",
    "# Calculate the quantiles\n",
    "q1 = stats.chi2(n - 1).ppf(alpha / 2)\n",
    "q2 = stats.chi2(n - 1).ppf(1 - alpha / 2)\n",
    "\n",
    "# Calculate the variance\n",
    "variance = np.var(x, ddof=1)\n",
    "\n",
    "# Calculate confidence interval\n",
    "lo = (n - 1) * variance / q2\n",
    "up = (n - 1) * variance / q1\n",
    "\n",
    "print(f\"Confidence interval: [{lo}, {up}]\")"
   ]
  },
  {
   "cell_type": "code",
   "execution_count": 4,
   "id": "ddd5d7fb-a0a9-43b8-8cc1-f890f2b01ab0",
   "metadata": {},
   "outputs": [
    {
     "name": "stdout",
     "output_type": "stream",
     "text": [
      "Correct variance: 0.017875690000000003\n"
     ]
    }
   ],
   "source": [
    "print(f\"Correct variance: {std ** 2}\")"
   ]
  }
 ],
 "metadata": {
  "kernelspec": {
   "display_name": "Python 3 (ipykernel)",
   "language": "python",
   "name": "python3"
  },
  "language_info": {
   "codemirror_mode": {
    "name": "ipython",
    "version": 3
   },
   "file_extension": ".py",
   "mimetype": "text/x-python",
   "name": "python",
   "nbconvert_exporter": "python",
   "pygments_lexer": "ipython3",
   "version": "3.9.13"
  }
 },
 "nbformat": 4,
 "nbformat_minor": 5
}
