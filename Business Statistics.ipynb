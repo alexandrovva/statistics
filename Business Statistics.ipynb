{
 "cells": [
  {
   "cell_type": "code",
   "execution_count": 68,
   "id": "887fd08d",
   "metadata": {},
   "outputs": [],
   "source": [
    "# Import statements\n",
    "import pandas as pd\n",
    "import numpy as np\n",
    "import matplotlib.pyplot as plt\n",
    "import seaborn as sns\n",
    "import random\n",
    "import math\n",
    "\n",
    "from scipy import stats\n",
    "from loess.loess_1d import loess_1d"
   ]
  },
  {
   "cell_type": "markdown",
   "id": "1435a90d",
   "metadata": {},
   "source": [
    "# Introduction and Descriptive Statistics"
   ]
  },
  {
   "cell_type": "markdown",
   "id": "b9e3d7ea",
   "metadata": {},
   "source": [
    "## Data aquisition\n",
    "\n",
    "- **Population:** The population is the set of all units for which an assertion has to made\n",
    "- **Sample:** A sample is choosen out of the population (random)\n",
    "- **Stat. unit:** Individual elements are called statistical units\n",
    "- **Feature:** Each stat. unit has features\n",
    "- **Feature value:** The value of the feature"
   ]
  },
  {
   "cell_type": "markdown",
   "id": "e9855b39",
   "metadata": {},
   "source": [
    "## Data classes\n",
    "\n",
    "|Type|Subtype|Remarks|\n",
    "|:---|:---|:---|\n",
    "|Qualitative|Nominal|Categories that cannot be ordered|\n",
    "|Qualitative|Ordinal|Can be ordered naturally|\n",
    "|Quantitative|Interval|In addition to ordinal values, differences can be computed|\n",
    "|Quantitative|Ratio|Has a meaningful zero value|"
   ]
  },
  {
   "cell_type": "markdown",
   "id": "0a66d2f9",
   "metadata": {},
   "source": [
    "## Frequency of qualitative features\n",
    "\n",
    "Since a meaningful mean or other statistical values cannot be computed from qualitative features, it can only be described by frequencies\n",
    "\n",
    "$$\n",
    "absolute \\space frequency \\Rightarrow h_j\\\\\n",
    "relative \\space frequency \\Rightarrow f_j = \\frac{h_j}{N}\n",
    "$$"
   ]
  },
  {
   "cell_type": "markdown",
   "id": "21a54bf0-6154-471e-b8b3-facda4dfaa66",
   "metadata": {},
   "source": [
    "## Categorical values"
   ]
  },
  {
   "cell_type": "code",
   "execution_count": 2,
   "id": "ee6ab287-c9a7-479d-b221-7d9982ce9a44",
   "metadata": {},
   "outputs": [
    {
     "name": "stdout",
     "output_type": "stream",
     "text": [
      "\n",
      "    Represent a categorical variable in classic R / S-plus fashion.\n",
      "\n",
      "    `Categoricals` can only take on only a limited, and usually fixed, number\n",
      "    of possible values (`categories`). In contrast to statistical categorical\n",
      "    variables, a `Categorical` might have an order, but numerical operations\n",
      "    (additions, divisions, ...) are not possible.\n",
      "\n",
      "    All values of the `Categorical` are either in `categories` or `np.nan`.\n",
      "    Assigning values outside of `categories` will raise a `ValueError`. Order\n",
      "    is defined by the order of the `categories`, not lexical order of the\n",
      "    values.\n",
      "\n",
      "    Parameters\n",
      "    ----------\n",
      "    values : list-like\n",
      "        The values of the categorical. If categories are given, values not in\n",
      "        categories will be replaced with NaN.\n",
      "    categories : Index-like (unique), optional\n",
      "        The unique categories for this categorical. If not given, the\n",
      "        categories are assumed to be the unique values of `values` (sorted, if\n",
      "        possible, otherwise in the order in which they appear).\n",
      "    ordered : bool, default False\n",
      "        Whether or not this categorical is treated as a ordered categorical.\n",
      "        If True, the resulting categorical will be ordered.\n",
      "        An ordered categorical respects, when sorted, the order of its\n",
      "        `categories` attribute (which in turn is the `categories` argument, if\n",
      "        provided).\n",
      "    dtype : CategoricalDtype\n",
      "        An instance of ``CategoricalDtype`` to use for this categorical.\n",
      "\n",
      "    Attributes\n",
      "    ----------\n",
      "    categories : Index\n",
      "        The categories of this categorical\n",
      "    codes : ndarray\n",
      "        The codes (integer positions, which point to the categories) of this\n",
      "        categorical, read only.\n",
      "    ordered : bool\n",
      "        Whether or not this Categorical is ordered.\n",
      "    dtype : CategoricalDtype\n",
      "        The instance of ``CategoricalDtype`` storing the ``categories``\n",
      "        and ``ordered``.\n"
     ]
    }
   ],
   "source": [
    "for i in [i for i in pd.Categorical.__doc__.split('\\n')][:43]:\n",
    "    print(i)"
   ]
  },
  {
   "cell_type": "code",
   "execution_count": 3,
   "id": "2b031d53-f29b-42fb-855e-3bba4a9cfc97",
   "metadata": {},
   "outputs": [
    {
     "data": {
      "image/png": "[encoded data removed]",
      "text/plain": [
       "<Figure size 432x288 with 1 Axes>"
      ]
     },
     "metadata": {
      "needs_background": "light"
     },
     "output_type": "display_data"
    }
   ],
   "source": [
    "c = pd.Categorical([1, 2, 3, 6, 4, 3, 2, 3, 4], [1, 2, 3, 4, 5, 6])\n",
    "pd.Series(c).value_counts(sort=False).plot.barh();"
   ]
  },
  {
   "cell_type": "markdown",
   "id": "91d2eed0-cbb7-4a2f-89d0-f300959ab5a2",
   "metadata": {},
   "source": [
    "## Frequency of quantitative features\n",
    "\n",
    "- Rarely two identical values are observed\n",
    "- Absolute/relative frequencies for single observations are thus not meaningful\n",
    "- Can be described by relative frequency aka. density\n",
    "\n",
    "$$\n",
    "f_j = \\frac{\\# \\{values \\space in \\space l_j\\}}{(b_j-a_j)*N}\n",
    "$$\n",
    "\n",
    "where $l_j = [a_j, b_j)$ is the j-th **bin** and $b_j > a_j$."
   ]
  },
  {
   "cell_type": "code",
   "execution_count": 4,
   "id": "61b9cc27-f9c3-4fa4-a165-b6277ce381e0",
   "metadata": {},
   "outputs": [
    {
     "data": {
      "image/png": "[encoded data removed]",
      "text/plain": [
       "<Figure size 432x288 with 2 Axes>"
      ]
     },
     "metadata": {
      "needs_background": "light"
     },
     "output_type": "display_data"
    },
    {
     "data": {
      "image/png": "[encoded data removed]",
      "text/plain": [
       "<Figure size 432x288 with 1 Axes>"
      ]
     },
     "metadata": {
      "needs_background": "light"
     },
     "output_type": "display_data"
    }
   ],
   "source": [
    "# Example:\n",
    "\n",
    "random.seed(4)\n",
    "values = pd.Series([random.randint(0, 100) for _ in range(15)])\n",
    "bins = np.linspace(0, 100, 10)\n",
    "\n",
    "fig, ax = plt.subplots(1, 2)\n",
    "values.hist(bins=bins, density=True, ax=ax[0])\n",
    "values.hist(bins=bins, density=False, ax=ax[1])\n",
    "ax[0].set_title(\"Relative frequency of data\")\n",
    "ax[1].set_title(\"Absolute frequency of data\")\n",
    "plt.show()\n",
    "\n",
    "values.plot.box(notch=True, vert=False)\n",
    "plt.title(\"Boxplot of data\")\n",
    "plt.yticks(ticks=[])\n",
    "plt.show()"
   ]
  },
  {
   "cell_type": "markdown",
   "id": "8ea0031c-8318-417b-b862-cfc47f1ce7ab",
   "metadata": {},
   "source": [
    "## Central tendency\n",
    "\n",
    "- Measures describe the location of a sample on the feature scale\n",
    "- They summarize the sample in a single number\n",
    "- Often they are referred to as location measures"
   ]
  },
  {
   "cell_type": "markdown",
   "id": "c9608f6b-d8cd-4dba-9dec-80ddf5c94c58",
   "metadata": {},
   "source": [
    "### Nominal data: Mode\n",
    "\n",
    "> Most frequent value in a given sample with qualitative-nominal values is called mode. If there are two (or more) values with the same frequency, the sample is called bimodel (multimodal)"
   ]
  },
  {
   "cell_type": "markdown",
   "id": "9587524a-e21d-42cd-a4f7-fe2167785272",
   "metadata": {},
   "source": [
    "### Ordinal data: Quantiles\n",
    "\n",
    "> Describes that the smallest value $q_{\\alpha}$ in the sample for which at least $\\alpha * 100%$ of the measurement values are not larger than $q_{\\alpha}$\n",
    "\n",
    "**Median & Co.**\n",
    "\n",
    "- 50%-quantile is called median (Divides the sample in two equally sized portions)\n",
    "- 25%-quantile and the 75%-quantile are called lower and upper quartile\n",
    "- The smallest and largest values in the sample together with the median, $q_{0.25}$ and $q_{0.75}$ form the 5-number-summary of the sample"
   ]
  },
  {
   "cell_type": "markdown",
   "id": "e2f78018-40fd-4f72-b4fe-47b76eea5250",
   "metadata": {},
   "source": [
    "### Quantiative data: mean\n",
    "\n",
    "> The mean is a location measure\n",
    "\n",
    "1. Arithmetic mean (data with interval scale):\n",
    "$$\n",
    "    \\bar{x} = \\frac{1}{N} \\sum_{i=1}^{N}x_i\n",
    "$$\n",
    "\n",
    "2. Geometric mean (data with ratio scale):\n",
    "$$\n",
    "    \\bar{x_g} = \\sqrt[n]{\\prod_{i=1}^{N}x_i}\n",
    "$$"
   ]
  },
  {
   "cell_type": "markdown",
   "id": "cd56f84d-35de-4b32-8419-f3f063901574",
   "metadata": {},
   "source": [
    "![Introduction Measurements](./images/Introduction_overview_measurements.png)"
   ]
  },
  {
   "cell_type": "markdown",
   "id": "86895951-b653-42a0-98bd-93a1eaa58571",
   "metadata": {},
   "source": [
    "### Dispersion measures\n",
    "\n",
    "> Statistical dispersion accounts for variability of quantitative data (width of the distribution)\n",
    "\n",
    "- range: $R = max(x_i) - min(x_i)$\n",
    "- interquartile range (IQR): $IQR = q_{0.75} - q_{0.25}$\n",
    "- empirical variance: $$s^2 = \\frac{1}{N - 1} \\sum_{i=1}^{N}(x_i - \\bar{x})^2$$\n",
    "- empirical standard deviation: $s = \\sqrt{s^2}$"
   ]
  },
  {
   "cell_type": "markdown",
   "id": "f745b7c8-bcf9-4f80-9fec-c50f4b190424",
   "metadata": {},
   "source": [
    "### Covariance\n",
    "\n",
    "> The covariance is a measure for the linear dependency of two features X and Y\n",
    "\n",
    "$$\n",
    "s_{xy} = \\frac{1}{N - 1} \\sum_{i = 1}^{N}(x_i - \\bar{x})(y_i - \\bar{y})\n",
    "$$"
   ]
  },
  {
   "cell_type": "markdown",
   "id": "575bdfb7-9a4b-4910-8d3c-669bc0eaa47f",
   "metadata": {},
   "source": [
    "### Dependency and Correlation\n",
    "\n",
    "> The correlation measures the linear dependency of features. If the data is independent, then the correlation is small. If the correlation is small, then little is known about the dependency of features"
   ]
  },
  {
   "cell_type": "markdown",
   "id": "cef22ddc-b6ba-4056-b5eb-bcc59ae7e938",
   "metadata": {},
   "source": [
    "# A Gentle Introduction to Probability\n",
    "\n",
    "## Random variables\n",
    "\n",
    "> A random variable $X$ is a real-valued function on the sample space $\\mathsf{\\Omega}$, i. e. a rule $f : \\mathsf{\\Omega} \\rightarrow W_X$ that assigns a number to each possible outcome.\n",
    "\n",
    "- The outcomes of an experiment are stored in a list.\n",
    "- The set of all possible outcomes is called sample space $\\mathsf{\\Omega}$\n",
    "- A **random variable** $X$ is a real-valued function of the sample space $\\mathsf{\\Omega}$"
   ]
  },
  {
   "cell_type": "markdown",
   "id": "43ba74b5-a42d-4dfa-b71a-a4a9fb66ab39",
   "metadata": {},
   "source": [
    "## Probability\n",
    "\n",
    "Let $X$ be the number of a certain event in $i$ observations with $n$ possible different outcomes. $X = 0$ means that this event has never occured. The probability of the result $X = 0 : P(X = 0) = \\frac{1}{n}$\n",
    "\n",
    "- Probability mass function: The sum over all probabilities is always 1\n",
    "- The concept of probability mass functions only works for discrete random variables"
   ]
  },
  {
   "cell_type": "markdown",
   "id": "e3d8e87c-1d87-4f4c-b139-3e0873df128e",
   "metadata": {},
   "source": [
    "## Common models\n",
    "\n",
    "- An experiment with only two possible outcomes ($\\mathsf{\\Omega} = \\{+, -\\}$) is called Bernoulli trial\n",
    "$$\n",
    "P(S_n = k) = {n \\choose k} * p^k * (1 - p) ^{n-k}, \\quad for \\space 0 \\le k \\le n\n",
    "$$"
   ]
  },
  {
   "cell_type": "code",
   "execution_count": 5,
   "id": "4ca9a0f9-04d1-4b80-9e05-37df80b7d470",
   "metadata": {},
   "outputs": [
    {
     "data": {
      "text/plain": [
       "0.4409999999999998"
      ]
     },
     "execution_count": 5,
     "metadata": {},
     "output_type": "execute_result"
    }
   ],
   "source": [
    "# Example: 70% of people buy chicken sandwiches and 30% buy other products. What is the probability that 2 of 3 customers buy a chicken sandwich?\n",
    "p_chicken = .7\n",
    "n = 3\n",
    "k = 2\n",
    "\n",
    "model = stats.binom(n=n, p=p_chicken)\n",
    "model.pmf(k)  # probability mass function"
   ]
  },
  {
   "cell_type": "markdown",
   "id": "a5955261-7f52-4efd-9391-d12f2c0d1cd8",
   "metadata": {},
   "source": [
    "**Expected value**\n",
    "\n",
    "$$\n",
    "E(X) = n * p\n",
    "$$\n",
    "\n",
    "or\n",
    "\n",
    "```python\n",
    "model = stats.binom(n=n, p=p)\n",
    "model.mean()\n",
    "```"
   ]
  },
  {
   "cell_type": "markdown",
   "id": "a8a1d74a-5984-4460-b88a-b3536032ac3c",
   "metadata": {},
   "source": [
    "## Distribution function\n",
    "\n",
    "- Let $x \\in \\mathbb{R}$, Then, the event $X \\le x$ is defined and we call $F(x) = P(X \\le x)$ the (cummulative) distribution function (cdf) of $X$.\n",
    "\n",
    "> The cumulative distribution function (cdf) is the probability, that a random variable values less or equal to x"
   ]
  },
  {
   "cell_type": "markdown",
   "id": "88e1b159-a00d-42b9-aa73-d4ea8e50dd24",
   "metadata": {},
   "source": [
    "## Probability density\n",
    "\n",
    "- The probability density function (pdf) $f(x)$ is defined as $f(x) = F'(x)$, if the derivative exists\n",
    "\n",
    "> The probability density function (pdf) is the probability, that a random variable values exactly at x"
   ]
  },
  {
   "cell_type": "markdown",
   "id": "da0811c8-e505-4159-a6f6-919249316ffb",
   "metadata": {},
   "source": [
    "## Characteristics\n",
    "\n",
    "**Expected value and variance**\n",
    "\n",
    "- The expected value is the average value for a random variable when the number of trials approaches infinity\n",
    "- The expected value of X is defined as $$E(X) = \\mu x = \\int_{-\\inf}^{\\inf}x*f(x)dx$$\n",
    "- The expected variance of X is defined as $$Var(X) = \\mathsf{\\sigma}_x^2 = E[(X - \\mu x) ^2] = \\int_{-\\inf}^{\\inf}(x-\\mu x) ^2 * f(x) dx = E(X^2) - E(X)^2$$\n",
    "\n",
    "**Quantile**\n",
    "\n",
    "- The $\\alpha$-quantile $q(\\alpha)$ of $X$ is defined as $$P(X \\le q(\\alpha)) = \\alpha \\Leftrightarrow F(q(\\alpha)) = \\alpha \\Leftrightarrow q(\\alpha) = F^{-1}(\\alpha)$$"
   ]
  },
  {
   "cell_type": "markdown",
   "id": "6eaafdf3-1622-45ea-9c74-0c6e9b652617",
   "metadata": {},
   "source": [
    "## When to use which probability function?\n",
    "\n",
    "- **PMF** (Probability mass function): Used when dealing with discrete variables $\\rightarrow$ The proability of each discrete outcome\n",
    "- **PDF** (Probability density function): Used when dealing with continuous variables $\\rightarrow$ The probabiliy of each discrete outcome\n",
    "- **CDF** (Cumulative density function): Used with both, PMF and PDF when we want the probability that a variable values less or equal x"
   ]
  },
  {
   "cell_type": "markdown",
   "id": "20144672-d326-41ff-9f17-d2577c40402b",
   "metadata": {
    "tags": []
   },
   "source": [
    "## Uniform distribution\n",
    "\n",
    "> A uniform distribution has a constant density in the interval $[a, b]$\n",
    "\n",
    "- Density function\n",
    "$$\n",
    "f(x)= \n",
    "\\begin{cases}\n",
    "    \\frac{1}{b - a},& \\text{if } a \\leq x \\leq b \\\\\n",
    "    0,              & \\text{otherwise}\n",
    "\\end{cases}\n",
    "$$\n",
    "- Distribution function\n",
    "\n",
    "$$\n",
    "F(x) = \n",
    "\\begin{cases}\n",
    "    0,& \\text{if } x < a \\\\\n",
    "    \\frac{x - a}{b - a},& \\text{if } a \\leq x < b \\\\\n",
    "    1,& \\text{if } x \\geq b\n",
    "\\end{cases}\n",
    "$$\n",
    "\n",
    "- Expected value\n",
    "\n",
    "$$\n",
    "E(X) = \\frac{b + a}{2}\n",
    "$$\n",
    "\n",
    "- Expected variance\n",
    "\n",
    "$$\n",
    "Var(X) = \\frac{(b - a)^2}{12}\n",
    "$$"
   ]
  },
  {
   "cell_type": "code",
   "execution_count": 6,
   "id": "807624a8-1656-4535-9a70-9b30452c592d",
   "metadata": {},
   "outputs": [
    {
     "data": {
      "text/plain": [
       "0.8"
      ]
     },
     "execution_count": 6,
     "metadata": {},
     "output_type": "execute_result"
    }
   ],
   "source": [
    "model = stats.uniform(0, 20)  # Every 20 minutes, a train arives\n",
    "1 - model.cdf(4)  # Probability for waiting longer than 4 minutes when ariving at a random time"
   ]
  },
  {
   "cell_type": "markdown",
   "id": "f8c41724-0bc7-4e5e-8d98-3ed0fbc19b90",
   "metadata": {},
   "source": [
    "## Exponential distribution\n",
    " \n",
    "> Exponential distribution is the model class for survival times\n",
    "\n",
    "$$\n",
    "X \\sim Exp(\\lambda), \\quad \\lambda > 0\n",
    "$$\n",
    "\n",
    "- Density function\n",
    "\n",
    "$$\n",
    "f(x) =\n",
    "\\begin{cases}\n",
    "    \\lambda e^{-\\lambda * x},& \\text{if } x \\geq 0 \\\\\n",
    "    0,& \\text{else}\n",
    "\\end{cases}\n",
    "$$\n",
    "\n",
    "- Distribution function\n",
    "\n",
    "$$\n",
    "F(x) =\n",
    "\\begin{cases}\n",
    "    0,& \\text{if } x < 0 \\\\\n",
    "    1 - e ^{-\\lambda * x},& \\text{if } 0 \\leq x\n",
    "\\end{cases}\n",
    "$$\n",
    "\n",
    "- Expected value\n",
    "$$\n",
    "E(X) = \\frac{1}{\\lambda}\n",
    "$$\n",
    "\n",
    "- Expected variance\n",
    "$$\n",
    "Var(X) = \\frac{1}{\\lambda ^2}\n",
    "$$"
   ]
  },
  {
   "cell_type": "code",
   "execution_count": 7,
   "id": "5fcc2e7a-5560-4194-85a1-75e7ef545343",
   "metadata": {},
   "outputs": [
    {
     "data": {
      "text/plain": [
       "0.352594607916089"
      ]
     },
     "execution_count": 7,
     "metadata": {},
     "output_type": "execute_result"
    }
   ],
   "source": [
    "time_between_attacks = 2.3  # Expected value 2.3 seconds between two attacks -> Lambda = 1 / E(X)\n",
    "model = stats.expon(scale=time_between_attacks)\n",
    "model.cdf(1)  # Attach within in the next second"
   ]
  },
  {
   "cell_type": "markdown",
   "id": "dc4d4725-e818-42ff-9eb3-6bab6fc88b8d",
   "metadata": {},
   "source": [
    "## Normal distribution\n",
    "\n",
    "- Density function\n",
    "\n",
    "$$\n",
    "f(x) = \\frac{1}{\\sigma \\sqrt{2 \\pi}} exp \\Biggl\\{ - \\frac{1}{2} \\Bigl(\\frac{x - \\mu}{\\sigma}\\Bigr)^2 \\Biggl\\}\n",
    "$$\n",
    "\n",
    "- Distribution function\n",
    "$$\n",
    "F(x) = \\int_{-\\inf}^{x} f(u) du\n",
    "$$\n",
    "\n",
    "- Expecred value\n",
    "$$\n",
    "E(X) = \\mu\n",
    "$$\n",
    "\n",
    "- Expected variance\n",
    "$$\n",
    "Var(X) = \\sigma ^2\n",
    "$$"
   ]
  },
  {
   "cell_type": "code",
   "execution_count": 8,
   "id": "e645244e-621e-4266-b351-26371fffe85a",
   "metadata": {},
   "outputs": [
    {
     "name": "stdout",
     "output_type": "stream",
     "text": [
      "0.012419330651552318\n"
     ]
    }
   ],
   "source": [
    "model = stats.norm(325, 0.4)  # Example for screw production with avg length of 325mm and std of 0.4mm\n",
    "p = model.cdf(324) + 1 - model.cdf(326)  # Probability for deviating more than 1mm from the nominal size\n",
    "print(p)"
   ]
  },
  {
   "cell_type": "markdown",
   "id": "466c028e-e5aa-484a-9c35-4d9039b28d6b",
   "metadata": {},
   "source": [
    "## Standard Error\n",
    "\n",
    "$$\n",
    "SE(\\beta_1)^2 = \\frac{\\sigma^2}{\\sum_{i=1}^{n}(x - \\bar{x}^2)}\n",
    "$$"
   ]
  },
  {
   "cell_type": "markdown",
   "id": "7e6c342c-2272-4f67-88f2-b4c6aa669915",
   "metadata": {},
   "source": [
    "## Estimators and Confidence Intervals"
   ]
  },
  {
   "cell_type": "markdown",
   "id": "e3effdfc-5273-4e49-8e68-78b81708c059",
   "metadata": {},
   "source": [
    "## Unbiasedness\n",
    "\n",
    "An estimator $\\hat{\\theta}$ is called unbiased if $E(\\hat{\\theta}) = \\theta$  \n",
    "\n",
    "The difference $Bias(\\theta, \\hat{\\theta}) = \\theta - E(\\hat{\\theta})$ the bias of the estimator. This is the systematic error we are making when estimating $\\theta$"
   ]
  },
  {
   "cell_type": "markdown",
   "id": "8efe596f-d28b-4607-983c-4af62d013b21",
   "metadata": {},
   "source": [
    "## Consistency\n",
    "\n",
    "An estimator $\\hat{\\theta}$ for the parameter $\\theta$ is called consistent, if the variance of $\\hat{\\theta}$ vanishes with increasing number of samples, i. e.\n",
    "$$\n",
    "\\lim_{n \\rightarrow \\inf} Var(\\hat{\\theta}) = 0\n",
    "$$"
   ]
  },
  {
   "cell_type": "markdown",
   "id": "ab5bf8b1-4305-45d4-84f6-4e42f9397fb1",
   "metadata": {},
   "source": [
    "## Convergence\n",
    "\n",
    "The mean squared error (MSE) can be decomposed in \n",
    "$$\n",
    "MSE = E \\bigl[ (\\theta - \\hat{\\theta})^2 \\bigr] = Bias(\\theta, \\hat{\\theta})^2 + Var(\\hat{\\theta})\n",
    "$$\n",
    "\n",
    "### Convergent estimator\n",
    "\n",
    "Let $\\hat{\\theta}$ be an estimator for a parameter $\\theta$ based on a sample $X_1, \\dots, X_n$ of size $n$. If $\\hat{\\theta}$ is unbiased and consistent it is also convergent, i. e.\n",
    "$$\n",
    "\\lim_{n \\rightarrow \\inf} E \\bigl[ (\\theta - \\hat{\\theta})^2 \\bigr] = 0\n",
    "$$"
   ]
  },
  {
   "cell_type": "code",
   "execution_count": 9,
   "id": "18468285-5267-40e8-b751-d4bf19717561",
   "metadata": {},
   "outputs": [
    {
     "name": "stdout",
     "output_type": "stream",
     "text": [
      "Expected value: 70.667\n",
      "Probability: 0.012\n"
     ]
    }
   ],
   "source": [
    "variance = 6.25  # known variance from the production line\n",
    "std = math.sqrt(variance)  # known standard deviation from the production line\n",
    "x = [70.1, 69.3, 71.4, 72.8, 66.1, 70.7, 69.9, 73.6, 72.1]  # Measured values from the production line\n",
    "\n",
    "model = stats.norm(np.mean(x), std)\n",
    "expected_value = model.expect()  # model.expect == np.mean(x)\n",
    "probability = model.cdf(65)\n",
    "\n",
    "print(\"Expected value:\", round(expected_value, 3))\n",
    "print(\"Probability:\", round(probability, 3))"
   ]
  },
  {
   "cell_type": "markdown",
   "id": "19b925ba-af39-46d0-bfab-a7de958379de",
   "metadata": {},
   "source": [
    "## Interval estimator\n",
    "\n",
    "Let $X_1, \\dots, X_n$ be independent and identically distributed measurements and let $\\theta$ be an unknown parameter of the underlying distribution. For a given $\\alpha \\in (0, 1)$ we assume we have two estimators $\\hat{\\theta}_L$ and $\\hat{\\theta}_U$ such that\n",
    "$$\n",
    "P(\\hat{\\theta}_L \\leq \\theta \\leq \\hat{\\theta}_U) \\geq 1 - \\alpha\n",
    "$$\n",
    "then we call $[\\hat{\\theta}_L, \\hat{\\theta}_U]$ a confidence interval with significance level $1 - \\alpha$\n",
    "\n",
    "- The interval limits $\\hat{\\theta}_L$ and $\\hat{\\theta}_U$ are random variables, i. e. each new measurement gives a new confidence interval for the same fixed parameter $\\theta$.\n",
    "- If $\\hat{\\theta}_L = - \\inf$ or $\\hat{\\theta}_U = \\inf$ we call the confidence interval one-sided.\n",
    "- Confidence intervals are sought for most parameters, but can often only be computed approximatively\n",
    "- Exact formulas are only available for $\\theta = \\mu$ and $\\theta = \\sigma$ in the case of normally distributed variables and a handfull of selected other parameters"
   ]
  },
  {
   "cell_type": "markdown",
   "id": "125cd6db-73a9-4cf7-9696-a1a7e524653d",
   "metadata": {},
   "source": [
    "## Confidence interval for µ if σ is unknown\n",
    "\n",
    "**Interval for $\\mu$ if $\\sigma$ is known:**\n",
    "\n",
    "Let $X_1, \\dots, X_n$ be independent measurements with $X_i \\sim N(\\mu, \\sigma^2)$, where $\\sigma^2$ is known and $\\theta = \\mu$ should be estimated from data. Then\n",
    "\n",
    "$$\n",
    "\\hat{\\theta}_L = \\bar{X} - z_{1-\\frac{\\alpha}{2}} * \\frac{\\sigma}{\\sqrt{n}}\n",
    "$$\n",
    "\n",
    "$$\n",
    "\\hat{\\theta}_U = \\bar{X} + z_{1-\\frac{\\alpha}{2}} * \\frac{\\sigma}{\\sqrt{n}}\n",
    "$$\n",
    "\n",
    "- The confidence interval covers the true parameter $\\theta$ in $(1 - \\alpha) * 100%$ of the cases (measurement repititions).\n",
    "- The length of the interval increases with small $\\alpha$ and decreases for large $n$\n",
    "$$\n",
    "l(\\alpha, n) = \\hat{\\theta}_U - \\hat{\\theta}_L = 2 * \\sigma * \\frac{z_{1 - \\frac{\\alpha}{2}}}{\\sqrt{n}}\n",
    "$$\n",
    "\n",
    "\n",
    "**How to calculate z**\n",
    "```python\n",
    "from scipy.stats import norm\n",
    "\n",
    "alpha = 0.05\n",
    "z = norm().ppf(1 - alpha / 2)\n",
    "```"
   ]
  },
  {
   "cell_type": "code",
   "execution_count": 10,
   "id": "0a8eff0b-743a-48d6-8ce6-4e92fdaa4590",
   "metadata": {},
   "outputs": [
    {
     "name": "stdout",
     "output_type": "stream",
     "text": [
      "Confidence interval: [0.9722695491884685, 1.0073304508115317]\n"
     ]
    }
   ],
   "source": [
    "x = [0.9438, 0.9613, 0.9769, 1.0416, 1.0254] \n",
    "x_mean = np.mean(x)\n",
    "\n",
    "n = len(x)\n",
    "alpha = 0.05\n",
    "sigma = 0.02  # known\n",
    "\n",
    "z = stats.norm().ppf(1 - alpha / 2)  # z ~ 1.959963984540054\n",
    "\n",
    "lo = x_mean - z * sigma / math.sqrt(n)\n",
    "up = x_mean + z * sigma / math.sqrt(n)\n",
    "\n",
    "print(f\"Confidence interval: [{lo}, {up}]\")"
   ]
  },
  {
   "cell_type": "markdown",
   "id": "79b70709-6902-4c88-ada2-9e6b1281850d",
   "metadata": {},
   "source": [
    "## Student t-distribution\n",
    "\n",
    "For normally distributed and independent measurements $X_1, \\dots, X_n$ with expected value $\\mu$ and standard deviation $\\sigma$ the quantity\n",
    "$$\n",
    "T = \\frac{\\bar{X} - \\mu}{\\frac{s_X}{\\sqrt{n}}}\n",
    "$$\n",
    "is Student t-distributed with n - 1 degrees of freedom (dof)."
   ]
  },
  {
   "cell_type": "markdown",
   "id": "4d3689ed-3ef2-42e5-9b49-c1c9b5e991f8",
   "metadata": {},
   "source": [
    "## Interval for µ if σ is unknown\n",
    "\n",
    "Let $X_1, \\dots, X_n$ be independent measurements with $X_i \\sim N(\\mu, \\sigma^2)$, where $\\sigma^2$ is unknown and $\\theta = \\mu$ has to be estimated from data. Then\n",
    "\n",
    "$$\n",
    "\\hat{\\theta}_L = \\bar{X} - t_{1 - \\frac{\\alpha}{2}, n - 1} * \\frac{s_X}{\\sqrt{n}}\n",
    "$$\n",
    "\n",
    "$$\n",
    "\\hat{\\theta}_U = \\bar{X} + t_{1 - \\frac{\\alpha}{2}, n - 1} * \\frac{s_X}{\\sqrt{n}}\n",
    "$$\n",
    "\n",
    "define a two-sided confidence interval with level $1 - \\alpha$. Here $t_{1 - \\frac{\\alpha}{2}, n - 1}$ denotes the $(1 - \\frac{\\alpha}{2}$-quantile of the student-t distribution with $n - 1$ dof."
   ]
  },
  {
   "cell_type": "code",
   "execution_count": 11,
   "id": "78060b5d-1bf2-43f8-8e5b-906c6f875724",
   "metadata": {},
   "outputs": [
    {
     "name": "stdout",
     "output_type": "stream",
     "text": [
      "Confidence interval: [0.937689816092454, 1.0419101839075462]\n"
     ]
    }
   ],
   "source": [
    "x = [0.9438, 0.9613, 0.9769, 1.0416, 1.0254] \n",
    "x_mean = np.mean(x)\n",
    "\n",
    "n = len(x)\n",
    "alpha = 0.05\n",
    "sigma = np.std(x, ddof=1)\n",
    "\n",
    "t = stats.t(n - 1).ppf(1 - alpha / 2)  # t ~ 2.7764451051977987\n",
    "\n",
    "lo = x_mean - t * sigma / math.sqrt(n)\n",
    "up = x_mean + t * sigma / math.sqrt(n)\n",
    "\n",
    "print(f\"Confidence interval: [{lo}, {up}]\")"
   ]
  },
  {
   "cell_type": "markdown",
   "id": "ae447d0c-5fca-40ad-b9f3-3a646268d7cc",
   "metadata": {},
   "source": [
    "## Distribution of the emp. variance\n",
    "\n",
    "Assume that the filling volumne $X$ is normally distributed with expected value $\\mu$ (unknown) and standard deviation $\\sigma$ (unknown). We estimate the unknown variance $\\sigma^2$ with\n",
    "\n",
    "$$\n",
    "s_x^2 = \\frac{1}{n - 1} \\sum_{i = 1}^{n}(X_i - \\bar{X})^2\n",
    "$$\n",
    "\n",
    "Then the quantity\n",
    "\n",
    "$$\n",
    "Q = \\frac{(n - 1) s_x^2}{\\sigma^2} = \\frac{\\sum_{i = 1}^n(X_i - \\bar{X})^2}{\\sigma^2}\n",
    "$$\n",
    "\n",
    "has a known distribution. One calls it the Chi-squared ($\\chi^2$) distribution with $n - 1$ dof."
   ]
  },
  {
   "cell_type": "markdown",
   "id": "4b54a8b8-d74d-457e-8c80-a6d8199c4476",
   "metadata": {},
   "source": [
    "## Confidence interval for σ\n",
    "\n",
    "Let $X_1, \\dots, X_n$ be independent measurements with $X_i \\sim N(\\mu, \\sigma^2)$, where $\\theta = \\sigma$ should be estimated from data. Then\n",
    "\n",
    "$$\n",
    "\\hat{\\theta}_L = \\frac{(n - 1) s_x^2}{q_{1 - \\frac{\\alpha}{2}}} \\quad \\text{ and } \\quad \\hat{\\theta}_U = \\frac{(n - 1) s_x^2}{q_{\\frac{\\alpha}{2}}}\n",
    "$$\n",
    "\n",
    "define a two-sided confidence interval with level $1 - \\alpha$. Here $q_\\beta$ is the $\\beta$-quantile of the $\\chi^2$-distribution with $n - 1$ dof."
   ]
  },
  {
   "cell_type": "code",
   "execution_count": 12,
   "id": "77ca507c-9fc4-451d-9235-ccce784b626c",
   "metadata": {},
   "outputs": [
    {
     "name": "stdout",
     "output_type": "stream",
     "text": [
      "Confidence interval: [0.0006322425454810734, 0.014543745066977658]\n"
     ]
    }
   ],
   "source": [
    "x = [0.9438, 0.9613, 0.9769, 1.0416, 1.0254] \n",
    "\n",
    "alpha = 0.05\n",
    "n = len(x)\n",
    "\n",
    "q1 = stats.chi2(n - 1).ppf(alpha / 2)\n",
    "q2 = stats.chi2(n - 1).ppf(1 - alpha / 2)\n",
    "\n",
    "variance = np.var(x, ddof=1)\n",
    "\n",
    "lo = (n - 1) * variance / q2\n",
    "up = (n - 1) * variance / q1\n",
    "\n",
    "print(f\"Confidence interval: [{lo}, {up}]\")"
   ]
  },
  {
   "cell_type": "markdown",
   "id": "b852128f-b6e7-456c-8e16-a15d57b0cde6",
   "metadata": {},
   "source": [
    "# One-Sample Tests"
   ]
  },
  {
   "cell_type": "markdown",
   "id": "6f2807b0-ab21-401c-b55d-bfc610d410e3",
   "metadata": {},
   "source": [
    "## Step 1\n",
    "\n",
    "**Hypothesis**  \n",
    "\n",
    "- For the null-Hypothesis we belief, that the average value $\\mu$ is equal to $\\mu_0$\n",
    "- The counter-claim is, that in reality $\\mu > \\mu_0$ or $\\mu < \\mu_0$\n",
    "\n",
    "Formally:\n",
    "\n",
    "$$\n",
    "H_0 : \\mu = \\mu_0 \\text{ (Null-Hypothesis)}\n",
    "$$\n",
    "against\n",
    "$$\n",
    "H_1 : \\mu > \\mu_0 \\text{ (Alternative-Hypothesis)}\n",
    "$$"
   ]
  },
  {
   "cell_type": "markdown",
   "id": "ea8a99ba-d856-4b23-876c-ab916c8e09af",
   "metadata": {},
   "source": [
    "## Step 2\n",
    "\n",
    "In order to check the null hypothesis, we need a test statistic T that satisfies two conditions:\n",
    "\n",
    "1. T can be computed from measurements $X_1, \\dots, X_n$\n",
    "2. The distribution of T under the null hypothesis $H_0$ is known.\n",
    "\n",
    "A meaningful test statistic additionally should be related to the unknown parameter $\\mu$. In our example we choose e. g. $$T = \\bar{X}$$\n",
    "Given $H_0$ we know that T is normally distributed $N(\\mu_0, \\sigma^2/n)$"
   ]
  },
  {
   "cell_type": "markdown",
   "id": "4fabe280-58a7-4daa-9f06-e52fefe4e06d",
   "metadata": {},
   "source": [
    "## Step 3\n",
    "\n",
    "If the null hypothesis is indeed right then for a measurement $X_1, \\dots, X_n$ of n values the statistic\n",
    "\n",
    "$$\n",
    "T = \\bar{X} = \\frac{1}{n}(X_1 + \\dots + X_n)\n",
    "$$\n",
    "\n",
    "sould be too far away from $\\mu_0$. If so, the alternative hypothesis could be more likely.\n",
    "\n",
    "If $H_0$ is corrent, then $T \\sim N(\\mu_0, \\sigma^2/n)$. For a predefined $\\alpha \\in (0, 1)$ we choose the $1 - \\alpha$-quantile $c$ of the distribution $T$. We reject the hypothesis, if the measured value of $T$ is in the rejection area $T\\in C = [c, \\inf]$\n",
    "\n",
    "**How to compute c**\n",
    "\n",
    "```python\n",
    "from scipy.stats import norm\n",
    "\n",
    "alpha = 0.05  # significance level\n",
    "c = stats.norm().ppf(1 - alpha)  # right-sided\n",
    "c = stats.norm().ppf(alpha)  # left-sided\n",
    "```"
   ]
  },
  {
   "cell_type": "markdown",
   "id": "2e9e6532-fcf3-4122-90ee-d86fcacb2124",
   "metadata": {},
   "source": [
    "## Step 4\n",
    "\n",
    "If the measurement $t$ of $T$ is in the rejection area $C$, we reject the hypothesis $H_0$."
   ]
  },
  {
   "cell_type": "markdown",
   "id": "aaa78e08-ae43-4641-b7eb-e1e250fd5f8e",
   "metadata": {},
   "source": [
    "## z-Test\n",
    "\n",
    "When we test for an unknown mean in a population, a slighty different (but equivalent) test statistic is usually used.\n",
    "Let $X \\sim N(\\mu, \\sigma^2)$, where $\\mu$ is unknown and $\\sigma$ is known. We test the null-hypothesis $$H_0 : \\mu = \\mu_0$$\n",
    "\n",
    "against one of the alternatives\n",
    "$$\n",
    "H_1 : \\mu > \\mu_0, \\quad \\text{ or } \\quad H_1 : \\mu \\neq \\mu_0, \\quad \\text{ or } \\quad H_1 : \\mu < \\mu_0\n",
    "$$\n",
    "\n",
    "We use the test statistic\n",
    "\n",
    "$$\n",
    "T = \\frac{\\bar{X} - \\mu_0}{\\frac{\\sigma}{\\sqrt{n}}}\n",
    "$$\n",
    "\n",
    "Given the null-hypothesis $H_0 : \\mu = \\mu_0$ the statistic $T$ has a standard normal distribution $N(0, 1)$"
   ]
  },
  {
   "cell_type": "code",
   "execution_count": 13,
   "id": "89e70a4d-ebda-4500-a093-759aa24ba0c7",
   "metadata": {},
   "outputs": [
    {
     "name": "stdout",
     "output_type": "stream",
     "text": [
      "True\n"
     ]
    }
   ],
   "source": [
    "mu0 = 1  # hypothesis: µ_0 = 1\n",
    "sigma = 0.1  # Assumed to be known\n",
    "n = 5  # Number of measurements\n",
    "\n",
    "alpha = 0.05  # Significance level\n",
    "c = stats.norm().ppf(1 - alpha)  # rejection area (right-sided)\n",
    "\n",
    "values = np.array([0.9411, 1.0533, 1.1053, 1.1601, 1.2044])\n",
    "x_mean = np.mean(values)\n",
    "\n",
    "t = (x_mean - mu0) / (sigma / math.sqrt(n))\n",
    "print(t > c)"
   ]
  },
  {
   "cell_type": "markdown",
   "id": "4203a234-472b-44bc-8fc9-1f7208583d44",
   "metadata": {},
   "source": [
    "## t-Test\n",
    "\n",
    "Let $X \\sim N(\\mu, \\sigma^2)$, where $\\mu$ and $\\sigma$ are unknown. We test the null-hypothesis $$H_0 : \\mu = \\mu_0$$\n",
    "against one of the alternatives\n",
    "\n",
    "$$\n",
    "H_1 : \\mu > \\mu_0, \\quad \\text{ or } \\quad H_1 : \\mu \\neq \\mu_0, \\quad \\text{ or } \\quad H_1 : \\mu < \\mu_0\n",
    "$$\n",
    "\n",
    "We use the test statistic\n",
    "\n",
    "$$\n",
    "T = \\frac{\\bar{X} - \\mu_0}{\\frac{s_x}{\\sqrt{n}}}\n",
    "$$\n",
    "\n",
    "Given the null-hypothesis $H_0 : \\mu = \\mu_0$ the statistic $T$ has a student-t distribution with $n - 1$ dof."
   ]
  },
  {
   "cell_type": "code",
   "execution_count": 14,
   "id": "c6dcd594-444f-487c-8d26-39e229a6ea00",
   "metadata": {},
   "outputs": [
    {
     "name": "stdout",
     "output_type": "stream",
     "text": [
      "False\n"
     ]
    }
   ],
   "source": [
    "mu0 = 1  # hypothesis: µ_0 = 1\n",
    "n = 5  # Number of measurements\n",
    "\n",
    "alpha = 0.05\n",
    "c = stats.t(n - 1).ppf(1 - alpha)  # rejection area (right-sided)\n",
    "\n",
    "values = np.array([0.9411, 1.0533, 1.1053, 1.1601, 1.2044])\n",
    "x_mean = np.mean(values)\n",
    "\n",
    "s = np.std(values, ddof=1)\n",
    "\n",
    "t = (x_mean - mu0) / (s / math.sqrt(n))\n",
    "print(t > c)"
   ]
  },
  {
   "cell_type": "markdown",
   "id": "84c89cea-6ac5-4b07-9df6-d993c61a99c6",
   "metadata": {},
   "source": [
    "## t-Test with Bernoulli distribution\n",
    "\n",
    "The observations $X_i$ are Bernoulli distributed and thus we have\n",
    "\n",
    "- $\\mu = E(X_i) = p$ and\n",
    "- $\\sigma^2 = Var(X_i) = p * (1 - p)$\n",
    "\n",
    "The central limit theorem tells us that\n",
    "\n",
    "$$\n",
    "\\frac{\\bar{X} - \\mu}{\\frac{\\sigma}{\\sqrt{n}}} = \\frac{\\bar{X} - p}{\\frac{\\sqrt{p*(1 - p)}}{\\sqrt{n}}} \\sim N(0, 1)\n",
    "$$\n",
    "\n",
    "There are different guidelines in the literature concerning under what conditions the normal approximation is valid. A typical condition is $n > 30$, but if p is very small or large, this will very likely not be valid. Typically one additionally forces that $n * p > 5$ and $n * (1 - p) > 5$."
   ]
  },
  {
   "cell_type": "code",
   "execution_count": 15,
   "id": "6ff5dc48-bbdd-4579-b697-1fd1038d2bbc",
   "metadata": {},
   "outputs": [
    {
     "data": {
      "text/plain": [
       "(0.03856083668351129, True)"
      ]
     },
     "execution_count": 15,
     "metadata": {},
     "output_type": "execute_result"
    }
   ],
   "source": [
    "p0 = 0.15\n",
    "alpha = 0.05\n",
    "\n",
    "n = 734\n",
    "k = 93\n",
    "\n",
    "c = stats.norm().ppf(alpha)\n",
    "\n",
    "x_bar = k / n\n",
    "s_x = math.sqrt(p0 * (1 - p0))\n",
    "\n",
    "t = (x_bar - p0) / (s_x / math.sqrt(n))\n",
    "p_value = stats.norm().cdf(t)\n",
    "p_value, t < c"
   ]
  },
  {
   "cell_type": "markdown",
   "id": "7eb53ffa-1e03-4d9c-85a7-2772094c8b2d",
   "metadata": {},
   "source": [
    "## Interpretation\n",
    "\n",
    "It is important to distinguish two aspects in a statistical test:\n",
    "\n",
    "1. The real situation: Either $H_0$ is true or $H_0$ is wrong\n",
    "2. The decision: We accept $H_0$ (i. e. $T$ is not in the rejection area) or we reject $H_0$.\n",
    "\n",
    "If $H_0$ is true in the real situation and we reject $H_0$ it is an error of $1^{st}$ kind.  \n",
    "\n",
    "If $H_0$ is wrong in the real situation and we accept $H_0$ it is an error of the $2^{nd}$ kind."
   ]
  },
  {
   "cell_type": "markdown",
   "id": "366699e9-2fa8-43e8-ad05-c6f858c5ec28",
   "metadata": {},
   "source": [
    "## Error of first kind\n",
    "\n",
    "The error of first kind can be controlled by $\\alpha$. We call $\\alpha$ the error probability or level of significance."
   ]
  },
  {
   "cell_type": "markdown",
   "id": "65cb6a54-1929-44a3-b872-1a892372f0b5",
   "metadata": {},
   "source": [
    "## Significance tests"
   ]
  },
  {
   "cell_type": "code",
   "execution_count": 16,
   "id": "66087221-9d81-4509-a1cc-b2b1264f063a",
   "metadata": {},
   "outputs": [
    {
     "data": {
      "text/plain": [
       "Ttest_1sampResult(statistic=2.032886862095466, pvalue=0.05592235210847076)"
      ]
     },
     "execution_count": 16,
     "metadata": {},
     "output_type": "execute_result"
    }
   ],
   "source": [
    "values = np.array([0.9411, 1.0533, 1.1053, 1.1601, 1.2044])\n",
    "\n",
    "mu0 = 1\n",
    "alpha = 0.05  # significance level\n",
    "\n",
    "res = stats.ttest_1samp(values, popmean=mu0, alternative='greater')\n",
    "res"
   ]
  },
  {
   "cell_type": "markdown",
   "id": "56939df9-1ceb-4389-84f7-fbbc7883f377",
   "metadata": {},
   "source": [
    "## Power function\n",
    "\n",
    "Let $\\theta$ be the parameter to be tested (e. g. $\\mu$ or $p$). Then, the function\n",
    "\n",
    "$$\n",
    "g(\\theta) = P(H_0 \\text{ rejected}|\\theta \\text{ is the true parameter})\n",
    "$$\n",
    "\n",
    "is called the power function of the test"
   ]
  },
  {
   "cell_type": "code",
   "execution_count": 17,
   "id": "8da09573-2e32-44aa-b811-c1e820198bc6",
   "metadata": {},
   "outputs": [
    {
     "data": {
      "image/png": "[encoded data removed]",
      "text/plain": [
       "<Figure size 432x288 with 1 Axes>"
      ]
     },
     "metadata": {
      "needs_background": "light"
     },
     "output_type": "display_data"
    }
   ],
   "source": [
    "values = np.array([0.9411, 1.0533, 1.1053, 1.1601, 1.2044])\n",
    "\n",
    "mu0 = 1\n",
    "n = 5\n",
    "\n",
    "alpha = 0.05\n",
    "c = stats.t(n - 1).ppf(1 - alpha)\n",
    "s = np.std(values, ddof=1)\n",
    "\n",
    "theta = np.linspace(0.5, 1.5)\n",
    "rhs = c + (mu0 - theta) / (s / math.sqrt(n))\n",
    "p = 1 - stats.t(n - 1).cdf(rhs)\n",
    "\n",
    "plt.plot(theta, p)\n",
    "plt.title(\"Power function\")\n",
    "plt.grid()\n",
    "plt.show()"
   ]
  },
  {
   "cell_type": "code",
   "execution_count": 18,
   "id": "cbae67c9-d61e-41ad-8159-50b4b02bd301",
   "metadata": {},
   "outputs": [
    {
     "data": {
      "text/plain": [
       "False"
      ]
     },
     "execution_count": 18,
     "metadata": {},
     "output_type": "execute_result"
    }
   ],
   "source": [
    "x = [124, 145, 112, 124, 136, 129, 125, 131, 142, 114]\n",
    "n = len(x)\n",
    "\n",
    "mu0 = 120\n",
    "\n",
    "alpha = 0.01\n",
    "c = stats.t(n - 1).ppf(1 - alpha)\n",
    "\n",
    "x_mean = np.mean(x)\n",
    "s = np.std(x, ddof=1)\n",
    "\n",
    "t = (x_mean - mu0) / (s / math.sqrt(n))\n",
    "t > c"
   ]
  },
  {
   "cell_type": "code",
   "execution_count": 19,
   "id": "d79ea1b0-2981-4993-b745-12d7a96f32ed",
   "metadata": {},
   "outputs": [
    {
     "data": {
      "text/plain": [
       "Ttest_1sampResult(statistic=2.398887151654915, pvalue=0.01998537512533906)"
      ]
     },
     "execution_count": 19,
     "metadata": {},
     "output_type": "execute_result"
    }
   ],
   "source": [
    "stats.ttest_1samp(x, mu0, alternative='greater')"
   ]
  },
  {
   "cell_type": "code",
   "execution_count": 20,
   "id": "c9f464c9-b536-4b08-8f52-4608a6d22cd6",
   "metadata": {},
   "outputs": [
    {
     "name": "stdout",
     "output_type": "stream",
     "text": [
      "H_1 is True\n"
     ]
    },
    {
     "data": {
      "text/plain": [
       "0.00011586577729283398"
      ]
     },
     "execution_count": 20,
     "metadata": {},
     "output_type": "execute_result"
    }
   ],
   "source": [
    "x_mean = 6.2\n",
    "n = 1438\n",
    "std = 2.06\n",
    "mu0 = 6\n",
    "\n",
    "alpha = 0.01\n",
    "c = stats.t(n - 1).ppf(1 - alpha)\n",
    "\n",
    "t = (x_mean - mu0) / (std / math.sqrt(n))\n",
    "print(\"H_1 is\", t > c)\n",
    "\n",
    "1 - stats.norm().cdf(t)"
   ]
  },
  {
   "cell_type": "markdown",
   "id": "c538224f-1130-4e92-a215-8d3fad2df64e",
   "metadata": {},
   "source": [
    "# Two-Sample Tests and ANOVA"
   ]
  },
  {
   "cell_type": "markdown",
   "id": "4dc61c16-e61f-4327-80d7-7102fc95974a",
   "metadata": {},
   "source": [
    "## 2-sample t-test for paired data\n",
    "\n",
    "Let $(X_1, Y_1), \\dots, (X_n, Y_n)$ be paired data such that the difference $D_i = X_i - Y_i$ satisfies the requirements of the 1-sample t-test. Let $\\mu_X = E(X_i)$ and $\\mu_Y = E(Y_i)$. Then, $\\mu = E(D) = \\mu_X - \\mu_Y$. Therefore, testing\n",
    "\n",
    "$$\n",
    "H_0 : \\mu_X = \\mu_Y \\quad \\text{vs} \\quad H_i : \\mu_X \\neq \\mu_Y\n",
    "$$\n",
    "\n",
    "can be achieved by performing a 1-sample t-test for\n",
    "\n",
    "$$\n",
    "H_0 : \\mu = 0 \\quad \\text{vs} \\quad H_1 : \\mu \\neq 0\n",
    "$$"
   ]
  },
  {
   "cell_type": "code",
   "execution_count": 32,
   "id": "ffe5a2af-3014-4b73-b6e8-234d7157e351",
   "metadata": {},
   "outputs": [
    {
     "data": {
      "text/plain": [
       "Ttest_1sampResult(statistic=-2.113523921321693, pvalue=0.031852094614968074)"
      ]
     },
     "execution_count": 32,
     "metadata": {},
     "output_type": "execute_result"
    }
   ],
   "source": [
    "x = np.array([264, 262, 257, 259, 261, 250, 261, 265, 261, 263])  # after diet\n",
    "y = np.array([301, 272, 240, 321, 315, 291, 350, 299, 231, 244])  # before diet\n",
    "\n",
    "d = x - y\n",
    "\n",
    "res = stats.ttest_1samp(d, popmean=0, alternative='less')\n",
    "res"
   ]
  },
  {
   "cell_type": "markdown",
   "id": "a32a40a3-045f-43b1-afb8-1c27daf58300",
   "metadata": {},
   "source": [
    "## Test for differences in two groups\n",
    "\n",
    "**Hypothesis:**\n",
    "\n",
    "We assume that $X$ and $Y$ are independent random variables with\n",
    "$$\n",
    "X \\sim N(\\mu_X, \\sigma_X^2) \\quad \\text{and} \\quad Y \\sim N(\\mu_Y, \\sigma_Y^2)\n",
    "$$\n",
    "for a given $\\Delta \\in \\mathbb{R}$\n",
    "$$\n",
    "H_0 : \\mu_X - \\mu_Y = \\Delta\n",
    "$$\n",
    "against the alternative\n",
    "$$\n",
    "H_1 : \\mu_X - \\mu_Y \\leq \\Delta \\quad \\text{or} \\quad H_1 : \\mu_X - \\mu_Y \\neq \\Delta \\quad \\text{or} \\quad H_1 : \\mu_X - \\mu_Y \\geq \\Delta\n",
    "$$"
   ]
  },
  {
   "cell_type": "markdown",
   "id": "649361e9-06f0-48cb-93fa-0791410ba622",
   "metadata": {},
   "source": [
    "## 2-sample t-Test for equal variance\n",
    "\n",
    "Let $X_1, \\dots, X_n$ and $Y_1, \\dots, Y_m$ be independent samples of $X$ and $Y$ with\n",
    "$$\n",
    "\\sigma_X = \\sigma_Y = \\sigma\n",
    "$$\n",
    "Given $H_0$ is true, we find that the statistic\n",
    "$$\n",
    "T = \\frac{\\bar{X} - \\bar{Y} - \\Delta}{s_P * \\sqrt{\\frac{1}{n} + \\frac{1}{m}}}\n",
    "$$\n",
    "follows a student-t distribution with $m + n - 2$ dof. Here\n",
    "$$\n",
    "s_P^2 = \\frac{(n - 1)s_X^2 + (m - 1)s_Y^2}{n + m - 2}\n",
    "$$\n",
    "is the pooled variance"
   ]
  },
  {
   "cell_type": "code",
   "execution_count": 37,
   "id": "e9526e42-ceec-49de-9628-0670f11231d5",
   "metadata": {},
   "outputs": [
    {
     "name": "stdout",
     "output_type": "stream",
     "text": [
      "t: 0.11381708088861871\n",
      "p: 0.4550705475644521\n"
     ]
    }
   ],
   "source": [
    "# Example\n",
    "x = np.array([267.5, 264.8, 292.1, 279.3, 265.6, 253.3,\n",
    "              290.4, 284.2, 298.0, 267.2, 281.9, 272.3])\n",
    "y = np.array([293.1, 283.4, 253.1, 249.5, 240.6, 300.4,\n",
    "              233.1, 215.8, 246.1, 264.4, 204.0, 270.3,\n",
    "              233.0, 231.4, 275.5, 245.3, 281.2, 274.5, 266.0, 248.8])\n",
    "\n",
    "delta = 20\n",
    "\n",
    "x_mean = np.mean(x)\n",
    "y_mean = np.mean(y)\n",
    "\n",
    "x_var = np.var(x, ddof=1)\n",
    "y_var = np.var(y, ddof=1)\n",
    "\n",
    "n = x.shape[0]\n",
    "m = y.shape[0]\n",
    "\n",
    "sp = math.sqrt(((n - 1) * x_var + (m - 1) * y_var) / (n + m - 2))\n",
    "\n",
    "t = (x_mean - y_mean - delta) / (sp * math.sqrt(1 / n + 1 / m))\n",
    "print(\"t:\", t)\n",
    "\n",
    "p = 1 - stats.t(n + m - 2).cdf(t)\n",
    "print(\"p:\", p)"
   ]
  },
  {
   "cell_type": "code",
   "execution_count": 36,
   "id": "e0a25feb-e183-4632-a35e-a519bf61378f",
   "metadata": {},
   "outputs": [
    {
     "data": {
      "text/plain": [
       "Ttest_indResult(statistic=0.11381708088861511, pvalue=0.45507054756445353)"
      ]
     },
     "execution_count": 36,
     "metadata": {},
     "output_type": "execute_result"
    }
   ],
   "source": [
    "x = np.array([267.5, 264.8, 292.1, 279.3, 265.6, 253.3,\n",
    "              290.4, 284.2, 298.0, 267.2, 281.9, 272.3])\n",
    "y = np.array([293.1, 283.4, 253.1, 249.5, 240.6, 300.4,\n",
    "              233.1, 215.8, 246.1, 264.4, 204.0, 270.3,\n",
    "              233.0, 231.4, 275.5, 245.3, 281.2, 274.5, 266.0, 248.8])\n",
    "delta = 20\n",
    "\n",
    "stats.ttest_ind(x, y + delta, equal_var=True, alternative=\"greater\")"
   ]
  },
  {
   "cell_type": "markdown",
   "id": "141affd5-3f65-477c-929a-a18caf7fc517",
   "metadata": {},
   "source": [
    "## Welch-Test\n",
    "\n",
    "- If the variances of $X$ and $Y$ are different, then the pooled variance $s_P$ can not be computed\n",
    "- The test statistic $T$ is computed similarly, but the distribution under $H_0$ is not known\n",
    "- It is possible to approximate the distribution of $T$ by a t-distribution.\n",
    "- In this case the test is called the Welch-Test"
   ]
  },
  {
   "cell_type": "code",
   "execution_count": 38,
   "id": "434a1581-7464-4ac9-a15f-c7025dc8645e",
   "metadata": {},
   "outputs": [
    {
     "data": {
      "text/plain": [
       "Ttest_indResult(statistic=0.13183447138445503, pvalue=0.4480027476341023)"
      ]
     },
     "execution_count": 38,
     "metadata": {},
     "output_type": "execute_result"
    }
   ],
   "source": [
    "x = np.array([267.5, 264.8, 292.1, 279.3, 265.6, 253.3,\n",
    "              290.4, 284.2, 298.0, 267.2, 281.9, 272.3])\n",
    "y = np.array([293.1, 283.4, 253.1, 249.5, 240.6, 300.4,\n",
    "              233.1, 215.8, 246.1, 264.4, 204.0, 270.3,\n",
    "              233.0, 231.4, 275.5, 245.3, 281.2, 274.5, 266.0, 248.8])\n",
    "delta = 20\n",
    "\n",
    "stats.ttest_ind(x, y + delta, equal_var=False, alternative=\"greater\")"
   ]
  },
  {
   "cell_type": "markdown",
   "id": "857a75de-0b2a-4863-a620-88c146551b5e",
   "metadata": {},
   "source": [
    "## Multiple tests\n",
    "\n",
    "If multiple tests are done, each with a significance level of $\\alpha = 5%$, the error probability of a $n$-fold t-test increases, i. e. even if no variable has an influence, it can be expected that one of the $n$ experiments show a spurious significant result.\n",
    "\n",
    "$$\n",
    "P(\\text{Error of first kind for at least one test}) = 1 - P(\\text{No error of first kind for all tests}) = 1 - (1 - \\alpha)^n\n",
    "$$"
   ]
  },
  {
   "cell_type": "markdown",
   "id": "5b1caf17-b694-48a3-8c54-d0c85fa964d3",
   "metadata": {},
   "source": [
    "## Example Paper-bags\n",
    "\n",
    "**Notions**\n",
    "\n",
    "- The tensile strength $Y$ of the paper is called the dependent or response variable\n",
    "- The concentration of hard wook $X$ is called the (controllable) factor variable (or treatment)\n",
    "- The factor $X$ only has $k$ unique levels.\n",
    "- For each factor level there are $n$ replicates of $Y$\n",
    "- If these $N = k * n$ experiments are carried out in random order, we speak of a completely randomized design"
   ]
  },
  {
   "cell_type": "markdown",
   "id": "54023bb7-f01f-412c-91b4-ac663d55983c",
   "metadata": {},
   "source": [
    "## One-factor model\n",
    "\n",
    "We define the following model for the dependent variable $Y$\n",
    "$$\n",
    "Y_{ij} = \\mu + \\tau_i + \\epsilon_{ij}\n",
    "$$\n",
    "\n",
    "- The global mean $\\mu$ is independent of the factor variable\n",
    "- The $i$-th factor effect $\\tau_i$ describes the influence of the factor level $i$ on the response variable\n",
    "- The term $\\epsilon_{ij}$ constitutes the random error. We shall assume that the errors are\n",
    "    1. independent and normally distributed\n",
    "    2. have mean 0 and\n",
    "    3. that all errors have the same (unknown) variance $\\sigma^2$"
   ]
  },
  {
   "cell_type": "markdown",
   "id": "ff75f22f-ad5c-4f69-8fe8-ac95d4cf67ef",
   "metadata": {},
   "source": [
    "## Hypothesis test - One-factor model\n",
    "\n",
    "For the one-factor model we test the hypothesis\n",
    "$$\n",
    "H_0 : \\tau_1 = \\tau_2 = \\dots = \\tau_k = 0\n",
    "$$\n",
    "vs.\n",
    "$$\n",
    "H_1: \\text{ There is at least one } i \\text{ such that } \\tau_i \\neq 0\n",
    "$$\n",
    "\n",
    "- All means are considered at once. There are no multiple tests\n",
    "- If the test rejects $H_0$, we have to use post-hoc tests to find out which factor has an influence."
   ]
  },
  {
   "cell_type": "markdown",
   "id": "aa7c29de-a7fb-428f-9c25-2b3ad39d2719",
   "metadata": {},
   "source": [
    "## Test statistic - One-factor model\n",
    "\n",
    "The basic idea for constructing a test statistic is the variance decomposition. We compute the total sum of squares of the data (total variance).\n",
    "\n",
    "$$\n",
    "SS_T = \\sum_{i=1}^k \\sum_{j=1}^n (y_{ij} - \\bar{y}_{..})^2\n",
    "$$\n",
    "\n",
    "The term can be decomposed as follows\n",
    "\n",
    "$$\n",
    "SS_T = \\sum_{i=1}^k \\sum_{j=1}^n ((\\bar{y}_{i.} - \\bar{y}_{..}) + (y_{ij} - \\bar{y}_{i.}))^2 = n * \\sum_{i=1}^k(\\bar{y}_{i.} - \\bar{y}_{..})^2 + \\sum_{i=1}^k \\sum_{j=1}^n (y_{ij} - \\bar{y}_{i.})^2 = SS_{Treat} + SS_E\n",
    "$$"
   ]
  },
  {
   "cell_type": "markdown",
   "id": "14aef581-6d97-4cf2-871d-036d38e3c9d4",
   "metadata": {},
   "source": [
    "## Interpretation\n",
    "\n",
    "$$\n",
    "n * \\sum_{i=1}^k(\\bar{y}_{i.} - \\bar{y}_{..})^2 \\quad \\text{vs} \\quad \\sum_{i=1}^k \\sum_{j=1}^n (y_{ij} - \\bar{y}_{i.})^2\n",
    "$$\n",
    "\n",
    "- The term $SS_{Treat}$ measures the average differences of the response variable for each factor level compared with the total average\n",
    "- The term $SS_E$ measures the random error of the model\n",
    "- It is thus important to compare $SS_{Treat}$ and $SS_E$ appropriately\n",
    "    $$\n",
    "    SS_E = SS_T - SS_{Treat}\n",
    "    $$\n",
    "- Idea: if the factor has an influence on the response variable, then $SS_{Treat}$ is rather large and $SS_E$ is rather small"
   ]
  },
  {
   "cell_type": "markdown",
   "id": "6accd96e-ed1c-4e5c-8b7d-daef11db9d3c",
   "metadata": {},
   "source": [
    "## ANOVA - Analysis of variance\n",
    "\n",
    "In order to compare these quantities, we have to normalize them. We compute the average sum of squares\n",
    "\n",
    "1. The quantity $SS_{Treat}$ has $k - 1$ dof. Thus\n",
    "$$\n",
    "MS_{Treat} = \\frac{1}{k - 1} * SS_{Treat}\n",
    "$$\n",
    "2. The quantity $SS_E$ has $k * (n - 1)$ dof. Thus\n",
    "$$\n",
    "MS_{E} = \\frac{1}{k(n - 1)} * SS_E\n",
    "$$\n",
    "\n",
    "The mean sum of squares constitute variances. Comparing these variances is called analysis of variance or ANOVA\n",
    "\n",
    "**test statistics**\n",
    "\n",
    "Given the hypothesis\n",
    "$$\n",
    "H_0 : \\tau_1 = \\tau_2 = \\dots = \\tau_k = 0\n",
    "$$\n",
    "the statistic\n",
    "$$\n",
    "F = \\frac{MS_{Treat}}{MS_E}\n",
    "$$\n",
    "is Fisher-distributed (F-distributed) with $k - 1$ and $k(n - 1)$ dof. The rejection area is right-sided"
   ]
  },
  {
   "cell_type": "code",
   "execution_count": 40,
   "id": "4e9e303e-7b92-46be-a984-1a914e610f75",
   "metadata": {},
   "outputs": [
    {
     "data": {
      "text/plain": [
       "F_onewayResult(statistic=19.605206999573184, pvalue=3.5925782584743027e-06)"
      ]
     },
     "execution_count": 40,
     "metadata": {},
     "output_type": "execute_result"
    }
   ],
   "source": [
    "y = np.array([\n",
    "    [7, 8, 15, 11, 9, 10],\n",
    "    [12, 17, 13, 18, 19, 15],\n",
    "    [14, 18, 19, 17, 16, 18],\n",
    "    [19, 25, 22, 23, 18, 20]\n",
    "])\n",
    "\n",
    "# perform anova\n",
    "res = stats.f_oneway(y[0, :], y[1, :], y[2, :], y[3, :])\n",
    "res"
   ]
  },
  {
   "cell_type": "markdown",
   "id": "27b2b1e2-cd7f-47ef-b920-ae530a26e26c",
   "metadata": {},
   "source": [
    "## ANOVA - Calculating the p-value\n",
    "\n",
    "To calculate the p-value of the ANOVA, we use the f-statistics\n",
    "\n",
    "```python\n",
    "from scipy import stats\n",
    "\n",
    "k = 3  # Number of factor levels\n",
    "n = 10  # Number of replicates\n",
    "\n",
    "F = ms_treat / ms_e\n",
    "\n",
    "p_value = stats.f((k - 1), k * (n - 1)).cdf(F)\n",
    "```"
   ]
  },
  {
   "cell_type": "markdown",
   "id": "34b0666d-54e4-4dd7-a039-c18fc3a2663c",
   "metadata": {},
   "source": [
    "## Estimation of Effects\n",
    "\n",
    "It is rather simple to estimate the treatment effects:\n",
    "\n",
    "1. Estimator for the global mean $\\mu$\n",
    "\n",
    "$$\n",
    "    \\hat{\\mu} = \\frac{1}{k * n} \\sum_{i=1}^k \\sum_{j=1}^n y_{ij} \\quad \\text{ (means of all observations)}\n",
    "$$\n",
    "\n",
    "2. Estimators for the group means $\\mu_i$\n",
    "\n",
    "$$\n",
    "\\hat{\\mu}_i = \\frac{1}{n} \\sum_{j=1}^n y_{ij} \\quad \\text{ (mean of group values)}\n",
    "$$\n",
    "\n",
    "3. Finally: Plug-in estimators for the treatments $\\tau_i$\n",
    "\n",
    "$$\n",
    "\\hat{\\tau_i} = \\hat{\\mu}_i - \\hat{\\mu}\n",
    "$$"
   ]
  },
  {
   "cell_type": "code",
   "execution_count": 41,
   "id": "8d77e55a-5827-420a-8824-a553de8ec300",
   "metadata": {},
   "outputs": [
    {
     "name": "stdout",
     "output_type": "stream",
     "text": [
      "Estimated treatments: [-5.95833333 -0.29166667  1.04166667  5.20833333]\n",
      "Overall mean: 15.958333333333334\n"
     ]
    }
   ],
   "source": [
    "y = np.array([\n",
    "    [7, 8, 15, 11, 9, 10],\n",
    "    [12, 17, 13, 18, 19, 15],\n",
    "    [14, 18, 19, 17, 16, 18],\n",
    "    [19, 25, 22, 23, 18, 20]\n",
    "])\n",
    "\n",
    "mu_hat = y.mean()  # overall mean\n",
    "mu_group_hat = y.mean(axis=1)  # group means\n",
    "tau = mu_group_hat - mu_hat\n",
    "\n",
    "print(\"Estimated treatments:\", tau)\n",
    "print(\"Overall mean:\", mu_hat)"
   ]
  },
  {
   "cell_type": "markdown",
   "id": "eb8c5cfe-fec0-424f-b52b-a02b5f2eaf4b",
   "metadata": {},
   "source": [
    "## Analysis of residuals\n",
    "\n",
    "It is important to check after the ANOVA if the assumptions on the error term are satisfied. To this end we look at the residuals\n",
    "$$\n",
    "e_{ij} = y_{ij} - \\hat{\\mu} - \\hat{\\tau_i} = y_{ij} - y_{i.}\n",
    "$$\n",
    "\n",
    "The residuals $e_{ij}$ are estimators for the error terms $\\epsilon_{ij}$ and we check the following properties:\n",
    "\n",
    "1. the residuals have mean 0\n",
    "2. the residuals grouped according to the factor level have equal variance $\\sigma^2$ and\n",
    "3. the residuals are approximately normally distributed"
   ]
  },
  {
   "cell_type": "code",
   "execution_count": 51,
   "id": "4b4c287b-8c94-4488-8a6b-3aec88742dce",
   "metadata": {},
   "outputs": [
    {
     "data": {
      "image/png": "[encoded data removed]",
      "text/plain": [
       "<Figure size 720x360 with 2 Axes>"
      ]
     },
     "metadata": {
      "needs_background": "light"
     },
     "output_type": "display_data"
    }
   ],
   "source": [
    "r = y.T - mu_group_hat  # residuals\n",
    "\n",
    "fig, ax = plt.subplots(1, 2, figsize=(10, 5))\n",
    "ax[0].boxplot(r, patch_artist=True, labels=['5%', '10%', '15%', '20%'])\n",
    "ax[0].set_title('Boxplots of residuals (mean zero, equal variance)')\n",
    "ax[0].grid()\n",
    "\n",
    "stats.probplot(r.reshape(-1), plot=ax[1], dist=stats.distributions.norm)\n",
    "ax[1].set_title('Q-Q-plot of residuals (normality)')\n",
    "ax[1].grid()\n",
    "\n",
    "plt.show()"
   ]
  },
  {
   "cell_type": "markdown",
   "id": "5ebd7d0e-189c-47a5-83cb-5b782fbbbed0",
   "metadata": {},
   "source": [
    "## Outlook ANOVA\n",
    "\n",
    "- It is possible (and common) to refine the null hypothesis. E. g. you could test $$\\mu_1 = \\mu_2$$ $$\\mu_3 = \\mu_4$$ $$\\mu_1 + \\mu_2 = \\mu_3 + \\mu_4$$ This combinations of means are called contrasts and one can test all equations simultaniously\n",
    "- If the ANOVA is significant one usually conducts post-hoc tests in order to find those levels that have the biggest influence on the response. Typical tests:\n",
    "    - Scheffé\n",
    "    - Bonferroni\n",
    "    - Tukey's HSD Test\n",
    "    - ..."
   ]
  },
  {
   "cell_type": "markdown",
   "id": "d73e67cd-a375-4172-935e-28224fa07d35",
   "metadata": {},
   "source": [
    "# Simple Linear Regression"
   ]
  },
  {
   "cell_type": "markdown",
   "id": "d0664777-1175-40c8-8eb0-5663ea2734d0",
   "metadata": {},
   "source": [
    "## Regression Analysis\n",
    "\n",
    "Regression analysis represents a statistical method to study and model the relationship between a response variable and predictor variables. Principal goal of regression analysis is to:\n",
    "\n",
    "- predict data points based for some new values of the predictor variables (prediction)\n",
    "- understand how the response variable is affected by a change of the predictor variables (inference)\n",
    "\n",
    "Applications: Regression analysis is one of the major methods in data analysis and applied in many different fields"
   ]
  },
  {
   "cell_type": "markdown",
   "id": "af77e061-adc7-4112-a69a-db611a419677",
   "metadata": {},
   "source": [
    "# Mathematical Formulation\n",
    "\n",
    "**Required:** Function $f$, that predicts the sales $Y$ based on the three advertising budgets $X_1, X_2, X_3$:\n",
    "$$\n",
    "y \\approx f(X_1, X_2, X_3)\n",
    "$$\n",
    "\n",
    "- $Y$: response variable or output variable\n",
    "- $X_1, X_2, X_3$: Predictors or input variables\n",
    "\n",
    "**Remark:** In relation $Y \\approx f(X_1, X_2, X_3)$ there is no equal sign : since the plots do not represent graphs of a function. $f$ represents the relation between $X_1, X_2, X_3$ and $Y$ only approximately"
   ]
  },
  {
   "cell_type": "markdown",
   "id": "539cf7a8-ed89-44de-97b8-c0b4a4f64822",
   "metadata": {},
   "source": [
    "## Statistical Regression Analysis\n",
    "\n",
    "**Assumption:** There is a relationship between $Y$ and $X_1, X_2, X_3$ and deviations are random\n",
    "\n",
    "**Mathematical Formulization:**\n",
    "\n",
    "$$\n",
    "Y = f(X_1, X_2, X_3) + \\epsilon\n",
    "$$\n",
    "\n",
    "- $f$ is some fixed but unknown function of $X_1, X_2, \\dots, X_p$\n",
    "- $\\epsilon$ is a random error term which is:\n",
    "    - independent of $X_1, X_2, \\dots, X_p$\n",
    "    - has mean zero\n",
    "    \n",
    "**Remarks:**  \n",
    "\n",
    "- Error $\\epsilon$ is described in terms of a probability distribution\n",
    "- Quantity $\\epsilon$ may contain unmeasured or unmeasurable variables\n",
    "- Simple assumption: $f$ is linear. Linear regression allows as well to fit non-linear curves."
   ]
  },
  {
   "cell_type": "markdown",
   "id": "39a0d9e1-2fbf-42e5-9b02-7a9a9f5227c2",
   "metadata": {},
   "source": [
    "## Simple Linear Regression Model\n",
    "\n",
    "We assume that there is approximately a linear relationship between $X$ and $Y$:\n",
    "$$\n",
    "Y \\approx \\beta_0 + \\beta_1 X\n",
    "$$\n",
    "\n",
    "- $\\beta_0$ represents the intercept of the regression line\n",
    "- $\\beta_1$ represents the slope of the regression line\n",
    "- $\\approx$ reads as is approximately modeled as"
   ]
  },
  {
   "cell_type": "markdown",
   "id": "8acf7544-2c6d-471d-968e-1d1a10f75b87",
   "metadata": {},
   "source": [
    "## Least Squares Method\n",
    "\n",
    "- Let $\\hat{y}_i = \\hat{\\beta}_0 + \\hat{\\beta}_1 x_i$ be the prediction for $Y$ based on the $i$th value of $X$.\n",
    "- The $i$-th residual is defined as $r_i = y_i - \\hat{y}_i$, i. e. the difference between the $i$-th observed response value and the $i$-th response value that is predicted by our linear model.\n",
    "- The Least squares approach chooses $\\hat{\\beta}_0$ and $\\hat{\\beta}_1$ to minimize the residual sum of squares (RSS)\n",
    "$$\n",
    "RSS = r_1^2 + r_2^2 + \\dots + r_n^2\n",
    "$$\n",
    "or equivalently\n",
    "$$\n",
    "RSS = (y_1 - \\hat{\\beta}_0 - \\hat{\\beta}_1 x_1)^2 + \\dots + (y_n - \\hat{\\beta}_0 - \\hat{\\beta}_1 x_n)^2\n",
    "$$\n",
    "\n",
    "$\\rightarrow$ derivative with respect to $\\hat{\\beta}_0$, resp. to $\\hat{\\beta}_1$ and set expression equal to zero!"
   ]
  },
  {
   "cell_type": "markdown",
   "id": "d9caea6e-45be-4679-9c9d-c3c06f885cc8",
   "metadata": {},
   "source": [
    "## Least Squares Coefficient Estimates\n",
    "\n",
    "$$\n",
    "\\hat{\\beta}_1 = \\frac{\\sum_{i=1}^n(x_i - \\bar{x})(y_i - \\bar{y})}{\\sum_{i=1}^n(x_i - \\bar{x})^2}\n",
    "$$\n",
    "\n",
    "$$\n",
    "\\hat{\\beta}_0 = \\bar{y} - \\hat{\\beta}_1 \\bar{x}\n",
    "$$\n",
    "\n",
    "where\n",
    "\n",
    "$$\n",
    "\\bar{x} = \\frac{1}{n} \\sum_{i=1}^n x_i \\quad \\text{and} \\quad \\bar{y} = \\frac{1}{n} \\sum_{i=1}^n y_i\n",
    "$$"
   ]
  },
  {
   "cell_type": "markdown",
   "id": "4734d52d-f1e2-47af-8bc4-7fa92cb9e2bc",
   "metadata": {},
   "source": [
    "## How much do coefficient estimates scatter?\n",
    "\n",
    "- We assume that we know the true relationship between $X$ and $Y$: $f(X) = 2 + 3X$\n",
    "- We simulate $X$ and $Y$ from the model $$Y = 2 + 3X + \\epsilon$$ where $\\epsilon$ is normally distributed with mean 0, thus $\\epsilon \\sim N(0, \\sigma^2)$. We create 100 random values of $X$ and generate the corresponding values of $Y$\n",
    "- Every simulation can be considered as a random experiment\n",
    "- After every experiment, we estimate the coefficients $\\beta_0$ and $\\beta_1$ and plot the corresponding regression line"
   ]
  },
  {
   "cell_type": "code",
   "execution_count": 63,
   "id": "0791f0bd-5bb4-4f4c-a5a5-6f1dd4f73178",
   "metadata": {},
   "outputs": [
    {
     "data": {
      "image/png": "[encoded data removed]",
      "text/plain": [
       "<Figure size 720x288 with 1 Axes>"
      ]
     },
     "metadata": {
      "needs_background": "light"
     },
     "output_type": "display_data"
    }
   ],
   "source": [
    "#generate random predictors (once)\n",
    "random.seed(123)\n",
    "x = stats.uniform(-2,2).rvs((100,))\n",
    "\n",
    "# true parameters\n",
    "beta0 = 2\n",
    "beta1 = 3\n",
    "sigma = 8\n",
    "\n",
    "# number of experiments\n",
    "N = 200\n",
    "plt.figure(figsize = (10, 4))\n",
    "\n",
    "for k in range(N):\n",
    "    # generate the response\n",
    "    eps = stats.norm(0, sigma).rvs((100,))\n",
    "    y = beta0 + beta1*x + eps\n",
    "\n",
    "    # estimate the coeffs\n",
    "    a = np.sum((x - x.mean()) * (y - y.mean()) / np.sum((x - x.mean()) ** 2))\n",
    "    b = y.mean() - a * x.mean()\n",
    "\n",
    "    plt.plot((-2,2), (-2*a + b, 2*a + b), color = \"blue\", alpha = 0.25)\n",
    "\n",
    "plt.plot((-2,2), (-2*beta1 + beta0, 2*beta1 + beta0), color = \"orange\")\n",
    "plt.grid()\n",
    "plt.show()"
   ]
  },
  {
   "cell_type": "markdown",
   "id": "2a6a2542-6c03-4464-b3dd-8d3f310b16a5",
   "metadata": {},
   "source": [
    "$\\hat{\\beta}_0$ and $\\hat{\\beta}_1$ are scattered around the true values $\\beta_0$ and $\\beta_1$ with standard error\n",
    "$$\n",
    "se(\\hat{\\beta}_0)^2 = \\sigma^2(\\frac{1}{n} + \\frac{\\bar{x}^2}{\\sum_{i=1}^n(x_i - \\bar{x})^2}) \\quad \\text{and} \\quad se(\\hat{\\beta}_1)^2 = \\frac{\\sigma^2}{\\sum_{i=1}^n(x_i - \\bar{x})^2}\n",
    "$$\n",
    "\n",
    "where $\\sigma^2=Var(\\epsilon)$"
   ]
  },
  {
   "cell_type": "markdown",
   "id": "8daa2d00-0945-4ba3-af75-cc79203abc6b",
   "metadata": {},
   "source": [
    "## Residuals and Estimation of Variance\n",
    "\n",
    "In general, $\\sigma^2$ (variance of the error term) is not known: but can be estimated on the basis of data. The error term $\\epsilon$  \n",
    "\n",
    "- cannot be observed\n",
    "- cannot be derived from $\\epsilon = Y - (\\beta_0 + \\beta_1 X)$ since $\\beta_0$ and $\\beta_1$ are unknown.\n",
    "\n",
    "Approximation for $\\epsilon$: residuals $r_i = y_i - (\\hat{\\beta}_0 + \\hat{\\beta}_1 x_i)$\n",
    "\n",
    "$$\n",
    "\\hat{\\sigma} = RSE = \\sqrt{\\frac{RSS}{n - 2}} = \\sqrt{\\frac{r_1^2 + r_2^2 + \\dots + r_n^2}{n - 2}}\n",
    "$$\n",
    "\n",
    "Factor $\\frac{1}{n - 2}$ is chosen so that the estimate of $\\sigma$ turns out to be unbiased. This estimate is known as the residual standard error (RSE)"
   ]
  },
  {
   "cell_type": "code",
   "execution_count": 62,
   "id": "ab7d39c9-b5e5-4212-9226-214bf9b10bd8",
   "metadata": {},
   "outputs": [
    {
     "name": "stdout",
     "output_type": "stream",
     "text": [
      "True offset:  2  estimated offset:  2.2322927123364216\n",
      "True slope:  3  estimated slope:  2.8019535241834315\n",
      "True standard error:  5 RSE:  4.517566912582735\n"
     ]
    },
    {
     "data": {
      "image/png": "[encoded data removed]",
      "text/plain": [
       "<Figure size 720x288 with 1 Axes>"
      ]
     },
     "metadata": {
      "needs_background": "light"
     },
     "output_type": "display_data"
    },
    {
     "data": {
      "image/png": "[encoded data removed]",
      "text/plain": [
       "<Figure size 720x288 with 1 Axes>"
      ]
     },
     "metadata": {
      "needs_background": "light"
     },
     "output_type": "display_data"
    }
   ],
   "source": [
    "#generate random predictors (once)\n",
    "seed(123)\n",
    "xmin = -2\n",
    "Deltax = 4\n",
    "xmax = xmin + Deltax\n",
    "x = uniform(xmin, Deltax).rvs((100,))\n",
    "n = x.shape[0]\n",
    "\n",
    "# true parameters\n",
    "beta0 = 2\n",
    "beta1 = 3\n",
    "sigma = 5\n",
    "\n",
    "# number of experiments\n",
    "N = 200\n",
    "\n",
    "# generate the response\n",
    "eps = norm(0, sigma).rvs((100,))\n",
    "y = beta0 + beta1 * x + eps\n",
    "\n",
    "# estimate the coeffs\n",
    "a = np.sum((x - x.mean()) * (y - y.mean()) / np.sum((x - x.mean()) ** 2))\n",
    "b = y.mean() - a * x.mean()\n",
    "\n",
    "#residuals\n",
    "y_hat = a*x + b\n",
    "r = y - y_hat\n",
    "\n",
    "#estimate variance\n",
    "RSE = np.sqrt(1/(n-2)*np.sum(r**2))\n",
    "\n",
    "print(\"True offset: \", beta0, \" estimated offset: \", b)\n",
    "print(\"True slope: \", beta1, \" estimated slope: \", a)\n",
    "print(\"True standard error: \", sigma, \"RSE: \", RSE)\n",
    "\n",
    "plt.figure(figsize = (10, 4))\n",
    "plt.plot(x, y, 'o', color = \"blue\", alpha=0.5)\n",
    "plt.plot((xmin, xmax), (xmin*a + b, xmax*a + b), color = \"blue\")\n",
    "plt.plot((xmin, xmax), (xmin*beta1 + beta0, xmax*beta1 + beta0), color = \"orange\")\n",
    "plt.grid()\n",
    "plt.show()\n",
    "\n",
    "# Tukey-Anscombe plot\n",
    "plt.figure(figsize = (10, 4))\n",
    "plt.plot(y_hat , r, 'o')\n",
    "plt.xlabel('fitted values')\n",
    "plt.ylabel('residuals')\n",
    "plt.show()\n"
   ]
  },
  {
   "cell_type": "markdown",
   "id": "342cec81-0ce8-4e36-9e8f-48234125b530",
   "metadata": {},
   "source": [
    "## Hypothesis Test\n",
    "\n",
    "Most common hypothesis test:\n",
    "\n",
    "- $H_0$: There is no relationship between $X$ and $Y$\n",
    "- $H_A$: There is some relationship between $X$ and $Y$\n",
    "\n",
    "Mathematically, this corresponds to testing:\n",
    "\n",
    "- $H_0$: $\\beta_1 = 0$ vs.\n",
    "- $H_A$: $\\beta_1 \\neq 0$\n",
    "\n",
    "If $\\beta_1 = 0$, then model reduces to $Y = \\beta_0 + \\epsilon$ and $X$ is not associated with $Y$. To test the null hypothesis, we need to determine whether $\\hat{\\beta}_1$ is sufficiently far from zero that we can be confident that $\\beta_1$ is non-zero.\n",
    "\n",
    "**Question:** How far from 0 is far enough?\n",
    "\n",
    "It depends on $se(\\hat{\\beta}_1)$. If $se(\\hat{\\beta}_1)$ is large: then $\\hat{\\beta}_1$ must be large in absolute value, to reject $H_0$. If $se(\\hat{\\beta}_1)$ is small: Then even relatively small values of $\\hat{\\beta}_1$ may provide evidence that $\\beta_1 \\neq 0$, that is to reject $H_0$"
   ]
  },
  {
   "cell_type": "markdown",
   "id": "99bf2720-f507-4fcd-a422-c93249f18778",
   "metadata": {},
   "source": [
    "## Hypothesis Test, Test statistic and P-Value\n",
    "\n",
    "- Test statistic: $T = \\frac{\\hat{\\beta}_1 - 0}{se(\\hat{\\beta}_1)}$: measures the number of standard deviations that $\\hat{\\beta}_1$ is away from $0$\n",
    "- If there is really no relationship between $X$ and $Y$, that is $H_0$ is true, then we expect that $T$ follows a $t$-distribution with $n-2$ degrees of freedom\n",
    "- We perform an experiment and measure the realization $t$ of the test statistic $T$\n",
    "- p-value: probability of observing any value of $T$ larger than $|t|$\n",
    "    - If p-value is smaller than $\\alpha$ (typically $\\alpha = 0.05$), then we reject $H_0$ and conclude: there is a relationship between $X$ and $Y$\n",
    "    - If p-value is larger than $\\alpha$, then we retain $H_0$ (there is no relationship between $X$ and $Y$)"
   ]
  },
  {
   "cell_type": "markdown",
   "id": "10672247-3f57-4947-a8dd-fef93fce751a",
   "metadata": {},
   "source": [
    "## t-Test in Linear Regression\n",
    "\n",
    "1. Model $$Y = \\beta_0 + \\beta_1 X + \\epsilon, \\quad \\epsilon \\sim N(0, \\sigma^2)$$\n",
    "2. Null Hypothesis: $$H_0 : \\beta_1 = 0$$Alternative Hypothesis: $$H_A: \\beta_1 \\neq 0 \\text{ two-sided Test}$$\n",
    "3. Test statistic: $$T = \\frac{\\text{observed } - \\text{ expected}}{\\text{estimated standard error}} = \\frac{\\hat{\\beta}_1 - 0}{se(\\hat{\\beta}_1)}$$ Null Distribution assuming $H_0$ is true: $$T \\sim t_{n-2}$$\n",
    "4. Significance Level: $\\alpha$\n",
    "5. Rejection Region for Test statistic: $$C = \\bigl( -\\inf, t_{n-2; \\frac{\\alpha}{2}} \\bigr] \\cup \\bigl[t_{n-2;1-\\frac{\\alpha}{2}}, \\inf \\bigr) $$\n",
    "6. Test decision: Verify whether observed $t$ falls into rejection region"
   ]
  },
  {
   "cell_type": "markdown",
   "id": "d2bde459-69c9-41f2-870e-bf9c1b51fe84",
   "metadata": {},
   "source": [
    "## Confidence Intervals Linear Regression\n",
    "\n",
    "A 95% confidence interval is defined as a range of values such that with a 95% probability, the range will contain the true unknown parameter. The range is defined in terms of lower and upper limits computed from the sample of data. For linear regression, the 95% confidence interval for $\\beta_1$ takes approximately the form $$\\bigl[ \\hat{\\beta}_1 - 2 * se(\\hat{\\beta}_1), \\hat{\\beta}_1 + 2 * se(\\hat{\\beta}_1) \\bigr]$$\n",
    "Remark: Exact formula for the 95% confidence interval is obtained by replacing the factor 2 by $t_{0.975;n-2}$: $t_{0.975;n-2}$ is the 0.975 quantile of a $t$-distribution with $n-2$ degrees of freedom "
   ]
  },
  {
   "cell_type": "markdown",
   "id": "aba46c2c-7103-4c62-8114-d42116e1aacb",
   "metadata": {},
   "source": [
    "## Model Assumptions for the Error Terms\n",
    "\n",
    "All test and estimation methods rely on model assumptions: The error terms $\\epsilon_i$ are independent and normally distributed random variables with a constant variance: $$\\epsilon_i \\sim N(0, \\sigma^2)$$\n",
    "\n",
    "1. For the expected value of all $\\epsilon_i$ we have $$E(\\epsilon_i) = 0$$\n",
    "2. The error terms $\\epsilon_i$ all have the same constant variance $$Var(\\epsilon_i) = \\sigma^2$$\n",
    "3. The error terms $\\epsilon_i$ are normally distributed\n",
    "4. The error terms $\\epsilon_i$ are independent"
   ]
  },
  {
   "cell_type": "markdown",
   "id": "ef0f0135-340b-4b39-9c40-817210bf149e",
   "metadata": {},
   "source": [
    "## Residual Analysis\n",
    "\n",
    "- We will verify every assumption underlying the linear regression model by means of summary statistics and graphical methods\n",
    "- Error term $\\epsilon_i = y_i - (\\beta_0 + \\beta_1 X)$ is unknown, since $\\beta_0$ and $\\beta_1$ are unknown\n",
    "- We however can determine the residuals: $r_i = y_i - (\\hat{\\beta}_0 + \\hat{\\beta}_1 x)$ which are relevant to estimate the standard deviation of the error terms\n",
    "\n",
    "**Aim of the residual analysis**\n",
    "If one or several model assumptions are violated, we should see this as a chance or starting point t adapt and/or extend our regression model to find a better and more adapted model (explorative data analysis)\n",
    "\n",
    "The **RSE** is an estimate of the standard deviation of $\\epsilon$. Roughly speaking, it is the average amount that the response will deviate from the true regression line\n",
    "\n",
    "$$\n",
    "RSE = \\sqrt{\\frac{r_1^2 + \\dots + r_n^2}{n - 2}} = \\sqrt{\\frac{(y_1 - \\hat{y}_1)^2 + \\dots + (y_n - \\hat{y}_n)^2}{n - 2}}\n",
    "$$"
   ]
  },
  {
   "cell_type": "markdown",
   "id": "6228660d-f789-439d-8357-ae98a34a43eb",
   "metadata": {},
   "source": [
    "## R² Statistic\n",
    "\n",
    "The R² statistic provides an alternative measure of fit\n",
    "$$\n",
    "R^2=1 - \\frac{\\sum_{i=1}^n(y_i - \\hat{y}_i)^2}{\\sum_{i=1}^n(y_i - \\bar{y})^2} = 1 - \\frac{\\text{variance left after regression fit}}{\\text{total variance}}\n",
    "$$\n",
    "\n",
    "- R² takes the form of a proportion - the proportion of variance explained: R² always takes on a value between 0 and 1, and is independent of the scale of Y\n",
    "- If model fits perfectly the data, then $\\hat{y}_i = y_i$ for all $i \\Rightarrow R^2 = 1$ \n",
    "- Alternative Interpretation of R²: proportion of the variance in the data that is explained by the regression model\n",
    "    - R²-value of approximately 1 means that a large part of the variance in the data is explained by the model (e. g. physics)\n",
    "    - R²-value near 0 indicates that little of the variance in the data is explained by the model (social sciences)"
   ]
  },
  {
   "cell_type": "markdown",
   "id": "27d57b92-6869-4689-a0b2-2c8ec474d048",
   "metadata": {},
   "source": [
    "## Diagnostics Tool for Testing Model Assumption E(ε) = 0\n",
    "\n",
    "Goal: We want to identify non-linearity of the regression function $f$, that is, we want to verify model assumption $E(\\epsilon) = 0$. The relevant residual plot is called Turkey-Anscombe-Plot\n",
    "\n",
    "**Turkey-Anscombe-Plot**\n",
    "\n",
    "- We plot on the vertical axis the residuals $r_i = y_i - \\hat{y}_i$\n",
    "- We plot on the horizontal axis the fitted or predicted values $\\hat{y}_i$\n",
    "- We thus plot the points $(\\hat{y}_i, r_i)$ for $i = 1, \\dots, n$"
   ]
  },
  {
   "cell_type": "code",
   "execution_count": 71,
   "id": "0ed6ec97-8fb0-4e7b-8d7f-96fbb98284bc",
   "metadata": {},
   "outputs": [
    {
     "data": {
      "image/png": "[encoded data removed]",
      "text/plain": [
       "<Figure size 720x288 with 1 Axes>"
      ]
     },
     "metadata": {
      "needs_background": "light"
     },
     "output_type": "display_data"
    }
   ],
   "source": [
    "df = pd.read_csv(\"../Lecture 6/Session 06 Data/Advertising.csv\")\n",
    "x, y = df['TV'].values, df['sales'].values  # predictor, response\n",
    "n = df.shape[0]\n",
    "\n",
    "# compute regression coeffs\n",
    "a = np.sum((x - x.mean())*(y - y.mean())/np.sum((x - x.mean())**2))\n",
    "b = y.mean() - a*x.mean()\n",
    "\n",
    "#residuals\n",
    "y_hat = a*x + b\n",
    "r = y - y_hat\n",
    "RSE = np.sqrt(1/(n-2)*np.sum(r**2))\n",
    "\n",
    "# Tukey-Anscombe plot\n",
    "plt.figure(figsize = (10, 4))\n",
    "plt.plot(y_hat, r, 'o')\n",
    "res = loess_1d(y_hat, r)  # smoothing approach\n",
    "plt.plot(res[0], res[1], 'r.')\n",
    "plt.xlabel('fitted values')\n",
    "plt.ylabel('residuals')\n",
    "plt.title(\"Tukey-Anscombe-Plot\")\n",
    "plt.grid()\n",
    "plt.show()"
   ]
  },
  {
   "cell_type": "markdown",
   "id": "a1635803-1187-41e2-8096-a22e2a33e186",
   "metadata": {},
   "source": [
    "Non-constant variances in the errors $\\epsilon_i$: **heteroscedasticity**"
   ]
  },
  {
   "cell_type": "markdown",
   "id": "28a1a569-38b7-4d51-a3e8-52ce9de27e29",
   "metadata": {},
   "source": [
    "## Diagnostics Tool for Testing the Model Assumption\n",
    "\n",
    "- Measure of scattering amplitude of errors: square root of the absolute value of the standardized residuals, that is $$\\sqrt{|\\tilde{r}_i|}$$\n",
    "- Standardized residuals $\\tilde{r}_i$ are defined as follows $$\\tilde{r}_i = \\frac{r_i}{\\hat{\\sigma} \\sqrt{1 - \\bigl( \\frac{1}{n} + \\frac{(x_i - \\bar{x})^2}{\\sum_{i=1}^n(x_i - \\bar{x})^2} \\bigr)}} $$\n",
    "- $\\hat{\\sigma}$: estimate of standard deviation of error terms (estimated by RSE)\n",
    "- If error terms $\\epsilon_i$ are normally distributed, then $$\\tilde{r}_i \\sim N(0, 1)$$"
   ]
  },
  {
   "cell_type": "markdown",
   "id": "96fc6634-edc5-4e39-a1b8-d29cbf77a9ed",
   "metadata": {},
   "source": [
    "## Scale-Location Plot\n",
    "\n",
    "If we plot the square root of the absolute values of the standardized residuals versus the predicted values $\\hat{y}_i$."
   ]
  },
  {
   "cell_type": "code",
   "execution_count": 72,
   "id": "a46022c2-9ea9-4cc5-926e-33b212fb49f0",
   "metadata": {},
   "outputs": [
    {
     "data": {
      "image/png": "[encoded data removed]",
      "text/plain": [
       "<Figure size 720x288 with 1 Axes>"
      ]
     },
     "metadata": {
      "needs_background": "light"
     },
     "output_type": "display_data"
    }
   ],
   "source": [
    "#scale-location plot\n",
    "factor = np.sqrt(1-(1/n + (x-x.mean())**2/np.sum((x-x.mean())**2)))*RSE\n",
    "std_r = r/factor\n",
    "plt.figure(figsize = (10, 4))\n",
    "res = loess_1d(y_hat, np.sqrt(std_r**2))\n",
    "plt.plot(y_hat , np.sqrt(std_r**2), 'o')\n",
    "plt.plot(res[0], res[1], 'r.')\n",
    "plt.xlabel('fitted values')\n",
    "plt.ylabel('std. residuals')\n",
    "plt.title(\"Scale-Location-Plot\")\n",
    "plt.grid()\n",
    "plt.show()"
   ]
  },
  {
   "cell_type": "markdown",
   "id": "0e7a2d54-b5a5-42f1-8dad-17a01a42f623",
   "metadata": {},
   "source": [
    "Red curve not within grey band of simulated curves: **heteroscedasticity**"
   ]
  },
  {
   "cell_type": "markdown",
   "id": "1cfa877c-0a0e-4188-80dc-6638f71b39ad",
   "metadata": {},
   "source": [
    "## Diagnostics Tool for the Normal Distribution Assumption of the Errors ε\n",
    "\n",
    "We are not able to determine the error terms $\\epsilon_i$ directly, we use the standardized residuals instead: $\\tilde{r}_i$. We check the Normal Distribution Assumption of the errors by means of a normal plot"
   ]
  },
  {
   "cell_type": "code",
   "execution_count": 73,
   "id": "b631d881-9025-4b32-86ff-3fe1baece8fa",
   "metadata": {},
   "outputs": [
    {
     "data": {
      "image/png": "[encoded data removed]",
      "text/plain": [
       "<Figure size 720x288 with 1 Axes>"
      ]
     },
     "metadata": {
      "needs_background": "light"
     },
     "output_type": "display_data"
    }
   ],
   "source": [
    "plt.figure(figsize = (10, 4))\n",
    "stats.probplot(r, plot = plt.gca())\n",
    "\n",
    "plt.title(\"Q-Q-Plot\")\n",
    "plt.grid()\n",
    "plt.show()"
   ]
  },
  {
   "cell_type": "code",
   "execution_count": null,
   "id": "d7c23928-4864-4118-9873-6d8d2ac4cede",
   "metadata": {},
   "outputs": [],
   "source": []
  }
 ],
 "metadata": {
  "kernelspec": {
   "display_name": "Python 3 (ipykernel)",
   "language": "python",
   "name": "python3"
  },
  "language_info": {
   "codemirror_mode": {
    "name": "ipython",
    "version": 3
   },
   "file_extension": ".py",
   "mimetype": "text/x-python",
   "name": "python",
   "nbconvert_exporter": "python",
   "pygments_lexer": "ipython3",
   "version": "3.9.13"
  },
  "toc-autonumbering": true,
  "toc-showtags": false
 },
 "nbformat": 4,
 "nbformat_minor": 5
}
