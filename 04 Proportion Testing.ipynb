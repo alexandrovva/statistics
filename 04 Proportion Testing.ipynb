{
 "cells": [
  {
   "cell_type": "code",
   "execution_count": 1,
   "id": "15d62de2-cf2c-41da-91b4-d1e91e9b391d",
   "metadata": {},
   "outputs": [],
   "source": [
    "import pandas as pd\n",
    "import numpy as np\n",
    "import matplotlib.pyplot as plt\n",
    "from scipy import stats"
   ]
  },
  {
   "cell_type": "markdown",
   "id": "3723fc10-ada6-4f93-a2a0-6ab345c5a966",
   "metadata": {},
   "source": [
    "# Bernoulli trial and proportion testing"
   ]
  },
  {
   "cell_type": "markdown",
   "id": "4be3ba52-bd37-4b6b-90f6-b69920dc99bb",
   "metadata": {},
   "source": [
    "$$\n",
    "P(S_n = k) = {n \\choose k} * p^k * (1 - p)^{n- k}, \\quad \\text{for } 0 \\leq k \\leq n\n",
    "$$"
   ]
  },
  {
   "cell_type": "markdown",
   "id": "7337eb1b-8aa6-4f43-9297-99c270e90ed0",
   "metadata": {},
   "source": [
    "## Hypothesis\n",
    "\n",
    "$$\n",
    "\\begin{align}\n",
    "H_0:& \\quad p_0 = p \\\\\n",
    "H_1:& \\quad p > p_0\n",
    "\\end{align}\n",
    "$$"
   ]
  },
  {
   "cell_type": "markdown",
   "id": "d689030e-328a-4db2-a914-37d022e39447",
   "metadata": {},
   "source": [
    "## Test statistics\n",
    "\n",
    "Assume the following things are given:\n",
    "\n",
    "- $k$: E. g. number of failed products\n",
    "- $n$: Total number of observations\n",
    "- $p_0$: Assumed probability that a product failes during production\n",
    "\n",
    "$$\n",
    "T = \\frac{\\bar{x} - p}{\\sqrt{\\frac{p_0 (1 - p_0)}{n}}}\n",
    "$$\n",
    "\n",
    "where $\\bar{x} = \\frac{k}{n}$"
   ]
  },
  {
   "cell_type": "code",
   "execution_count": 2,
   "id": "3adc88fc-ac3c-4bfb-9ff6-6f6e17651fd4",
   "metadata": {},
   "outputs": [
    {
     "name": "stdout",
     "output_type": "stream",
     "text": [
      "Test statistic: 0.9583148474999096\n",
      "Rejection area: 2.3263478740408408\n",
      "P-Value:        0.1689520095515027\n",
      "Reject H0:      False\n"
     ]
    }
   ],
   "source": [
    "k = 46\n",
    "n = 2000\n",
    "p0 = 0.02\n",
    "alpha = 0.01\n",
    "\n",
    "x_bar = k / n\n",
    "s_x = p0 * (1 - p0)\n",
    "\n",
    "# Calculate test statistic\n",
    "t = (x_bar - p0) / (np.sqrt(s_x / n))\n",
    "\n",
    "# Calculate rejection area - right-sided\n",
    "c = stats.norm().ppf(1 - alpha)\n",
    "\n",
    "# Calculate the p-value\n",
    "p_value = 1 - stats.norm().cdf(t)\n",
    "\n",
    "print(f\"Test statistic: {t}\")\n",
    "print(f\"Rejection area: {c}\")\n",
    "print(f\"P-Value:        {p_value}\")\n",
    "print(f\"Reject H0:      {t > c}\")"
   ]
  },
  {
   "cell_type": "code",
   "execution_count": null,
   "id": "e52b8e1b-41bf-4571-a052-642517ee5ce5",
   "metadata": {},
   "outputs": [],
   "source": []
  }
 ],
 "metadata": {
  "kernelspec": {
   "display_name": "Python 3 (ipykernel)",
   "language": "python",
   "name": "python3"
  },
  "language_info": {
   "codemirror_mode": {
    "name": "ipython",
    "version": 3
   },
   "file_extension": ".py",
   "mimetype": "text/x-python",
   "name": "python",
   "nbconvert_exporter": "python",
   "pygments_lexer": "ipython3",
   "version": "3.9.13"
  }
 },
 "nbformat": 4,
 "nbformat_minor": 5
}
