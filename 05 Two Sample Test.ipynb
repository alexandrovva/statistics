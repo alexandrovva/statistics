{
 "cells": [
  {
   "cell_type": "markdown",
   "id": "05322332-59ee-427f-a4f5-8b8fafaa712d",
   "metadata": {},
   "source": [
    "# Two-Sample-Test"
   ]
  },
  {
   "cell_type": "code",
   "execution_count": 1,
   "id": "b3500708-57a2-4db5-bb80-a0c806166823",
   "metadata": {},
   "outputs": [],
   "source": [
    "import pandas as pd\n",
    "import numpy as np\n",
    "import matplotlib.pyplot as plt\n",
    "from scipy import stats"
   ]
  },
  {
   "cell_type": "markdown",
   "id": "e708a1bf-bbac-4d49-9fc8-3ec8d1f3de6e",
   "metadata": {},
   "source": [
    "## Paired data\n",
    "\n",
    "Let $(X_1, Y_1), \\dots, (X_n, Y_n)$ be paired data such that the Difference $D_i = X_i - Y_i$ satisfies the requirements of the 1-sample t-test. Let $\\mu_X = E(X_i)$ and $\\mu_Y = E(Y_i)$. Then, $\\mu = E(D) = \\mu_X - \\mu_Y$. Therefore testing\n",
    "\n",
    "$$\n",
    "\\begin{split}\n",
    "H_0 &: \\mu_X = \\mu_Y \\\\\n",
    "H_1 &: \\mu_X \\neq \\mu_Y\n",
    "\\end{split}\n",
    "$$\n",
    "\n",
    "can be achieved by performing a 1-sample t-test for\n",
    "\n",
    "$$\n",
    "H_0: \\mu = 0 \\text{ vs } H_1 : \\mu \\neq 0\n",
    "$$\n",
    "\n",
    "**Test Statistic**\n",
    "\n",
    "For the test statistic we assume the difference between the two groups.\n",
    "\n",
    "$$\n",
    "T = \\frac{\\bar{X} - \\bar{Y}}{\\frac{s_x}{\\sqrt{n}}}\n",
    "$$"
   ]
  },
  {
   "cell_type": "code",
   "execution_count": 2,
   "id": "c07d52c4-a6f9-4abf-99a0-128e5149e9f1",
   "metadata": {},
   "outputs": [
    {
     "name": "stdout",
     "output_type": "stream",
     "text": [
      "Rejection area: [1.9842169515086827; inf]\n",
      "T-statistics:   1.006216961461008\n",
      "P-Value:        0.15715560739037338\n",
      "Is significant: False\n"
     ]
    }
   ],
   "source": [
    "x = stats.norm(100, 1).rvs(100)\n",
    "y = x - stats.norm(1, 5).rvs(100)\n",
    "\n",
    "d = x - y\n",
    "\n",
    "# Perform the test\n",
    "alpha = 0.05\n",
    "d_mean = np.mean(d)\n",
    "std = np.std(d, ddof=1)\n",
    "\n",
    "c = stats.t(d.shape[0] - 1).ppf(1 - alpha / 2)  # right-sided\n",
    "\n",
    "t = (d_mean) / (std / np.sqrt(d.shape[0]))\n",
    "\n",
    "p_value = 1 - stats.norm().cdf(t)\n",
    "\n",
    "print(f\"Rejection area: [{c}; inf]\")\n",
    "print(f\"T-statistics:   {t}\")\n",
    "print(f\"P-Value:        {p_value}\")\n",
    "print(f\"Is significant: {p_value < alpha}\")"
   ]
  },
  {
   "cell_type": "markdown",
   "id": "4e5dcc6c-aee7-4657-9814-4e713ea3b70d",
   "metadata": {},
   "source": [
    "## Differences in two groups\n",
    "\n",
    "We assume that $X$ and $Y$ are independent random variables with\n",
    "\n",
    "$$\n",
    "\\begin{split}\n",
    "X \\sim N(\\mu, \\sigma_X^2) \\\\\n",
    "Y \\sim N(\\mu, \\sigma_Y^2)\n",
    "\\end{split}\n",
    "$$\n",
    "\n",
    "for a given $\\Delta \\in \\mathbb{R}$\n",
    "\n",
    "$$H_0: \\mu_X - \\mu_Y = \\Delta$$\n",
    "\n",
    "against the alternative\n",
    "\n",
    "$$\n",
    "\\begin{split}\n",
    "H_1 &: \\mu_x - \\mu_y \\leq \\Delta \\text{ or} \\\\\n",
    "H_1 &: \\mu_x - \\mu_y \\neq \\Delta \\text{ or} \\\\\n",
    "H_1 &: \\mu_x - \\mu_y \\geq \\Delta\n",
    "\\end{split}\n",
    "$$"
   ]
  },
  {
   "cell_type": "markdown",
   "id": "f6e9d41f-dc60-4612-8488-67aa6ace6e23",
   "metadata": {},
   "source": [
    "### Equal variance\n",
    "\n",
    "Let $X_1, \\dots, X_n$ and $Y_1, \\dots, Y_n$ be independent samples of $X$ and $Y$ with\n",
    "\n",
    "$$\n",
    "\\sigma_x = \\sigma_Y = \\sigma\n",
    "$$\n",
    "\n",
    "Given $H_0$ is true, we find that the statistic\n",
    "\n",
    "$$\n",
    "T = \\frac{\\bar{X} - \\bar{Y} - \\Delta}{s_P * \\sqrt{\\frac{1}{n} + \\frac{1}{m}}}\n",
    "$$\n",
    "\n",
    "follows a student-t distribution with $m + n - 2$ degrees of freedom. Here\n",
    "\n",
    "$$\n",
    "s_P^2 = \\frac{(n - 1)s_X^2 + (m - 1)s_Y^2}{n + m - 2}\n",
    "$$\n",
    "\n",
    "is the pooled variance"
   ]
  },
  {
   "cell_type": "code",
   "execution_count": 5,
   "id": "daa4b626-665c-4b70-9dea-1a0ac80c0f45",
   "metadata": {},
   "outputs": [
    {
     "name": "stdout",
     "output_type": "stream",
     "text": [
      "T-Statistic: 0.18942639773551548\n",
      "Rejection a: 1.975092072704601\n",
      "P-Value:     0.42500088002587844\n"
     ]
    }
   ],
   "source": [
    "x = stats.norm(300, 2).rvs(100)\n",
    "y = stats.norm(297, 2).rvs(60)\n",
    "\n",
    "delta = 3  # Assumed difference in the group\n",
    "\n",
    "x_mean = np.mean(x)\n",
    "y_mean = np.mean(y)\n",
    "\n",
    "x_var = np.var(x, ddof=1)\n",
    "y_var = np.var(y, ddof=1)\n",
    "\n",
    "n = x.shape[0]\n",
    "m = y.shape[0]\n",
    "\n",
    "c = stats.t(n + m - 2).ppf(1 - 0.05 / 2)\n",
    "\n",
    "sp = np.sqrt(((n - 1) * x_var + (m - 1) * y_var) / (n + m - 2))\n",
    "t = (x_mean - y_mean - delta) / (sp * np.sqrt(1 / n + 1 / m))\n",
    "\n",
    "p = 1 - stats.t(n + m - 2).cdf(t)\n",
    "\n",
    "print(f\"T-Statistic: {t}\")\n",
    "print(f\"Rejection a: {c}\")\n",
    "print(f\"P-Value:     {p}\")"
   ]
  },
  {
   "cell_type": "code",
   "execution_count": 6,
   "id": "bccd5972-17d7-4aac-86a7-7a09573fec4e",
   "metadata": {},
   "outputs": [
    {
     "name": "stdout",
     "output_type": "stream",
     "text": [
      "T-Statistic: 0.18942639773551548\n",
      "P-Value:     0.42500088002587844\n"
     ]
    }
   ],
   "source": [
    "t, p = stats.ttest_ind(x, y + delta, equal_var=True, alternative='greater')\n",
    "\n",
    "print(f\"T-Statistic: {t}\")\n",
    "print(f\"P-Value:     {p}\")"
   ]
  },
  {
   "cell_type": "code",
   "execution_count": 7,
   "id": "0a3b9d4f-d634-4394-94bb-8c4bc308b28c",
   "metadata": {},
   "outputs": [
    {
     "data": {
      "image/png": "[encoded data removed]",
      "text/plain": [
       "<Figure size 432x288 with 1 Axes>"
      ]
     },
     "metadata": {
      "needs_background": "light"
     },
     "output_type": "display_data"
    }
   ],
   "source": [
    "plt.hist(x, density=True, alpha=.3)\n",
    "plt.hist(y, density=True, alpha=.3)\n",
    "plt.show()"
   ]
  },
  {
   "cell_type": "markdown",
   "id": "1998231c-e4df-45e4-87cf-c6f2c09cb3ff",
   "metadata": {},
   "source": [
    "### Welch Test\n",
    "\n",
    "- If the variance of $X$ and $Y$ are different, then the pooled variance $S_P$ can not be computed\n",
    "- The test statistic $T$ is computed similarly, but the distribution under $H_0$ is now known\n",
    "- It is possible to approximate the distribution of $T$ by a t-distribution\n",
    "- In this case the test is called the Welch-Test"
   ]
  },
  {
   "cell_type": "code",
   "execution_count": 8,
   "id": "41665587-0b93-4cd7-aae4-a3b60245296c",
   "metadata": {},
   "outputs": [],
   "source": [
    "x = stats.norm(300, np.random.randint(1, 3)).rvs(1000)\n",
    "y = stats.norm(297, np.random.randint(1, 3)).rvs(600)\n",
    "delta = 3\n",
    "\n",
    "n = x.shape[0]\n",
    "m = y.shape[0]\n",
    "alpha = 0.05\n",
    "\n",
    "c = stats.t(n + m - 2).ppf(1 - alpha / 2)"
   ]
  },
  {
   "cell_type": "code",
   "execution_count": 9,
   "id": "426275f8-0171-49ee-86bf-d2c3d68d2a14",
   "metadata": {},
   "outputs": [
    {
     "name": "stdout",
     "output_type": "stream",
     "text": [
      "T-Statistic: 0.2532131916753035\n",
      "Rejection a: 1.9614496156420809\n",
      "P-Value:     0.40007234294834687\n"
     ]
    }
   ],
   "source": [
    "t, p = stats.ttest_ind(x, y + delta, equal_var=False, alternative='greater')\n",
    "\n",
    "print(f\"T-Statistic: {t}\")\n",
    "print(f\"Rejection a: {c}\")\n",
    "print(f\"P-Value:     {p}\")"
   ]
  },
  {
   "cell_type": "code",
   "execution_count": null,
   "id": "ad23c888-685c-405f-aa9c-beb0bfd67c34",
   "metadata": {},
   "outputs": [],
   "source": []
  }
 ],
 "metadata": {
  "kernelspec": {
   "display_name": "Python 3 (ipykernel)",
   "language": "python",
   "name": "python3"
  },
  "language_info": {
   "codemirror_mode": {
    "name": "ipython",
    "version": 3
   },
   "file_extension": ".py",
   "mimetype": "text/x-python",
   "name": "python",
   "nbconvert_exporter": "python",
   "pygments_lexer": "ipython3",
   "version": "3.9.13"
  }
 },
 "nbformat": 4,
 "nbformat_minor": 5
}
