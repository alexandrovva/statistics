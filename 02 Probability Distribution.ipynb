{
 "cells": [
  {
   "cell_type": "code",
   "execution_count": 1,
   "id": "392274a7-b6da-437d-bda1-81024239e0ed",
   "metadata": {},
   "outputs": [],
   "source": [
    "import pandas as pd\n",
    "import numpy as np\n",
    "import matplotlib.pyplot as plt\n",
    "from scipy import stats"
   ]
  },
  {
   "cell_type": "markdown",
   "id": "9192c449-2d14-4cd4-b75f-8f584dd43a0d",
   "metadata": {},
   "source": [
    "## Binomial distribution\n",
    "\n",
    "- Experiment with two possible outcomes $$P(S_n = k) = {n \\choose k} * p^k * (1 - p) ^ {n -k}, \\quad \\text{for } 0 \\leq k \\leq n$$\n",
    "- Expected value $$E(X) = n * p$$"
   ]
  },
  {
   "cell_type": "code",
   "execution_count": 2,
   "id": "0eff71b1-4bfa-4468-8c91-5f54479eaa98",
   "metadata": {},
   "outputs": [
    {
     "name": "stdout",
     "output_type": "stream",
     "text": [
      "0.443625\n",
      "1.9500000000000002\n"
     ]
    }
   ],
   "source": [
    "p = 0.65\n",
    "n = 3  # Number of repititions\n",
    "k = 2  # Number of occurences of a certain outcome\n",
    "\n",
    "model = stats.binom(n=n, p=p)\n",
    "print(model.pmf(k))  # probability mass function calculates the probability that out of n times, k times a certain value occures\n",
    "print(model.mean())  # Expected Value"
   ]
  },
  {
   "cell_type": "markdown",
   "id": "1bcf1097-4863-49b2-9dda-0cb7e6e914db",
   "metadata": {},
   "source": [
    "## Uniform distribution\n",
    "\n",
    "- Has a constant density in the interval $[a, b]$\n",
    "- Used when there is a constant probability that a certain event happens\n",
    "- Density function\n",
    "$$\n",
    "f(x) = \\begin{cases} \\frac{1}{b - a} & \\text{if } a \\leq x \\leq b \\\\ 0 & \\text{else} \\end{cases}\n",
    "$$\n",
    "- Distribution $$F(x) = \\begin{cases} 0 & \\text{if } x < a \\\\ \\frac{x - a}{b - a} & \\text{if } a \\leq x \\leq b \\\\ 1 & \\text{if } x \\geq b \\end{cases}$$\n",
    "- Expected value $$E(X) = \\frac{b + a}{2}$$\n",
    "- Expected variance $$Var(X) = \\frac{(b - a) ^2}{12}$$"
   ]
  },
  {
   "cell_type": "code",
   "execution_count": 3,
   "id": "3d240426-b8b8-4061-852c-36d1e1c66d27",
   "metadata": {},
   "outputs": [
    {
     "name": "stdout",
     "output_type": "stream",
     "text": [
      "0.65\n",
      "0.35\n"
     ]
    }
   ],
   "source": [
    "min_value = 0\n",
    "width = 20\n",
    "\n",
    "model = stats.uniform(min_value, width)\n",
    "\n",
    "x = 7\n",
    "# Something more than x\n",
    "p = 1 - model.cdf(x)\n",
    "print(p)\n",
    "\n",
    "# Something less than x\n",
    "p = model.cdf(x)\n",
    "print(p)"
   ]
  },
  {
   "cell_type": "markdown",
   "id": "148646f8-3f6e-4558-9fc5-ea0c117f4b91",
   "metadata": {},
   "source": [
    "## Exponential distribution\n",
    "\n",
    "- Model class for survival times $$X \\sim Exp(\\lambda), \\quad \\lambda > 0$$\n",
    "- Density function: $$f(x) = \\begin{cases} \\lambda e ^{-\\lambda * x} & \\text{if } x \\geq 0 \\\\ 0 & \\text{else} \\end{cases}$$\n",
    "- Distribution function: $$F(x) = \\begin{cases} 0 & \\text{if } x < 0 \\\\ 1 - e^{-\\lambda * x} & \\text{if } 0 \\leq x \\end{cases}$$\n",
    "- Expected value: $$E(X) = \\frac{1}{\\lambda}$$\n",
    "- Expected variance: $$Var(X) = \\frac{1}{\\lambda^2}$$"
   ]
  },
  {
   "cell_type": "code",
   "execution_count": 6,
   "id": "9d30edb4-5ff7-44a8-93a6-6dbe63019786",
   "metadata": {},
   "outputs": [
    {
     "data": {
      "text/plain": [
       "0.22119921692859515"
      ]
     },
     "execution_count": 6,
     "metadata": {},
     "output_type": "execute_result"
    }
   ],
   "source": [
    "expected_value = 4  # units\n",
    "model = stats.expon(scale=expected_value)\n",
    "model.cdf(1)  # Something happens within 1 unit"
   ]
  },
  {
   "cell_type": "code",
   "execution_count": 7,
   "id": "5f4467ef-ecae-46e6-b26c-77870f94229f",
   "metadata": {},
   "outputs": [
    {
     "data": {
      "text/plain": [
       "4.0"
      ]
     },
     "execution_count": 7,
     "metadata": {},
     "output_type": "execute_result"
    }
   ],
   "source": [
    "lambda_value = 0.25\n",
    "expected_value = 1 / lambda_value\n",
    "expected_value"
   ]
  },
  {
   "cell_type": "code",
   "execution_count": 8,
   "id": "25243fe6-4a69-4fe7-bb7c-c560aa95c4ef",
   "metadata": {},
   "outputs": [
    {
     "data": {
      "text/plain": [
       "16.0"
      ]
     },
     "execution_count": 8,
     "metadata": {},
     "output_type": "execute_result"
    }
   ],
   "source": [
    "variance = 1 / (lambda_value ** 2)\n",
    "variance"
   ]
  },
  {
   "cell_type": "markdown",
   "id": "7ab6fba6-a1e8-4acf-b48e-31c7bcb8f2bc",
   "metadata": {},
   "source": [
    "## Normal distribution\n",
    "\n",
    "- Density: $$f(x) = \\frac{1}{\\sigma \\sqrt{2 \\pi}} e^{ - \\frac{1}{2} \\bigl( \\frac{x - \\mu}{\\sigma} \\bigr)^2 }$$\n",
    "- Distribution: $$F(x) = \\int{-\\inf}^{\\inf}$$\n",
    "- Expected value: $$E(X) = \\mu$$\n",
    "- Expected variance: $$Var(X) = \\sigma^2$$"
   ]
  },
  {
   "cell_type": "code",
   "execution_count": 9,
   "id": "f9e26db8-6067-4598-aa16-ae98fe17e7ab",
   "metadata": {},
   "outputs": [],
   "source": [
    "mean = 1337\n",
    "std = 42\n",
    "\n",
    "model = stats.norm(mean, std)\n",
    "\n",
    "p = model.cdf(1300)  # Probability less than 1300 - 0.1892\n",
    "p = model.pdf(1300)  # Probability for 1300 - 0.006444\n",
    "p = model.cdf(1300) + 1 - model.cdf(1400)  # Probability less than 1300 and more than 1400 - 0.2560\n",
    "p = 1 - model.cdf(1370)  # Probability more than 1370 - 0.2160"
   ]
  },
  {
   "cell_type": "code",
   "execution_count": null,
   "id": "fba4b30f-9c0d-40c7-a199-16051f4b6590",
   "metadata": {},
   "outputs": [],
   "source": []
  }
 ],
 "metadata": {
  "kernelspec": {
   "display_name": "Python 3 (ipykernel)",
   "language": "python",
   "name": "python3"
  },
  "language_info": {
   "codemirror_mode": {
    "name": "ipython",
    "version": 3
   },
   "file_extension": ".py",
   "mimetype": "text/x-python",
   "name": "python",
   "nbconvert_exporter": "python",
   "pygments_lexer": "ipython3",
   "version": "3.9.13"
  }
 },
 "nbformat": 4,
 "nbformat_minor": 5
}
