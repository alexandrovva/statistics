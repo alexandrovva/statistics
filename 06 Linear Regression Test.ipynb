{
 "cells": [
  {
   "cell_type": "markdown",
   "id": "a55650ba-40e7-48ab-942f-b486be9b4932",
   "metadata": {},
   "source": [
    "# Hypothesis Test, Test statistic and P-Value"
   ]
  },
  {
   "cell_type": "code",
   "execution_count": 83,
   "id": "5cf6b3f2-6b55-4f7f-a7a7-b080cd416667",
   "metadata": {},
   "outputs": [],
   "source": [
    "import pandas as pd\n",
    "import numpy as np\n",
    "import matplotlib.pyplot as plt\n",
    "\n",
    "from scipy import stats\n",
    "from loess.loess_1d import loess_1d"
   ]
  },
  {
   "cell_type": "markdown",
   "id": "fec276ea-56db-4540-95a6-d26077274c53",
   "metadata": {},
   "source": [
    "## Hypothesis Test\n",
    "\n",
    "$$\n",
    "\\begin{align}\n",
    "H_0 &: \\beta_1 = 0 \\\\\n",
    "H_A &: \\beta_1 \\neq 0\n",
    "\\end{align}\n",
    "$$"
   ]
  },
  {
   "cell_type": "markdown",
   "id": "48befec2-c985-4379-88d7-11415f8f17dc",
   "metadata": {},
   "source": [
    "## Test statistic\n",
    "\n",
    "$$\n",
    "\\begin{align}\n",
    "T=\\frac{\\hat{\\beta}_1 - 0}{se(\\hat{\\beta}_1)}\n",
    "\\end{align}\n",
    "$$\n",
    "\n",
    "- Test statistic $T$ measures the number of standard deviations that $\\hat{\\beta}_1$ is away from 0\n",
    "- If there is really no relationship between X and Y, that is $H_0$ is true, then we expect that $T$ follows a t-distribution with $n-2$ degrees of freedom.\n",
    "- p-value: Probability of observing any value of $T$ larger than $|t|$\n",
    "    - If $p < \\alpha$: then we reject $H_0$ and conclude that there is no relationship between $X$ and $Y$\n",
    "    - If $p > \\alpha$: then we failed to reject $H_0$"
   ]
  },
  {
   "cell_type": "markdown",
   "id": "0c158e35-05e1-4208-87c1-7ab9831e3e9a",
   "metadata": {},
   "source": [
    "## t-Test in Linear Regression\n",
    "\n",
    "- Model $$Y = \\beta_0 + \\beta_1 X + \\epsilon_i, \\quad \\epsilon \\sim N(0, \\sigma^2)$$\n",
    "- Hypothesis: $$\\begin{align} H_0 &: \\beta_1 = 0 \\\\ H_A &: \\beta_1 \\neq 0 \\text{ (two-sided test)} \\end{align}$$\n",
    "- Test statistic: $$T = \\frac{\\hat{\\beta}_1 - 0}{se(\\hat{\\beta}_1)}$$ Null Distribution assuming $H_0$ is true: $T\\sim t_{n - 2}$\n",
    "- Significance level: $\\alpha$\n",
    "- Rejection Region for Test statistic: $$C = \\Bigl( - \\inf; t_{n - 2; \\frac{\\alpha}{2}} \\Bigr] \\cup \\Bigl[t_{n - 2; 1 - \\frac{\\alpha}{2}}; \\inf \\Bigr) $$\n",
    "- Test decision: Verify whether observed $t$ falls into rejection area"
   ]
  },
  {
   "cell_type": "code",
   "execution_count": 108,
   "id": "988e0733-8d39-445e-bbc9-472c17a987d7",
   "metadata": {},
   "outputs": [],
   "source": [
    "model = stats.norm(0, 3)\n",
    "func = lambda x: 2.74 + 1.42 * x\n",
    "\n",
    "x = np.linspace(0, 10, 100)\n",
    "y = func(x) + model.rvs(x.shape[0])"
   ]
  },
  {
   "cell_type": "code",
   "execution_count": 109,
   "id": "999bf27b-8ae5-49b4-bd48-a4697c632070",
   "metadata": {},
   "outputs": [
    {
     "data": {
      "image/png": "[encoded data removed]",
      "text/plain": [
       "<Figure size 720x360 with 1 Axes>"
      ]
     },
     "metadata": {
      "needs_background": "light"
     },
     "output_type": "display_data"
    }
   ],
   "source": [
    "plt.figure(figsize=(10, 5))\n",
    "plt.scatter(x, y)\n",
    "plt.title(\"Distribution of the values\")\n",
    "plt.show()"
   ]
  },
  {
   "cell_type": "code",
   "execution_count": 110,
   "id": "19cf9c8a-335a-4b5d-add2-9c9289014e38",
   "metadata": {},
   "outputs": [
    {
     "data": {
      "text/plain": [
       "(1.3572877612681389, 2.9294112666918686)"
      ]
     },
     "execution_count": 110,
     "metadata": {},
     "output_type": "execute_result"
    }
   ],
   "source": [
    "x_mean = np.mean(x)\n",
    "y_mean = np.mean(y)\n",
    "\n",
    "b1 = np.sum((x - x_mean) * (y - y_mean)) / np.sum((x - x_mean) ** 2)\n",
    "b0 = y_mean - b1 * x_mean\n",
    "b1, b0"
   ]
  },
  {
   "cell_type": "code",
   "execution_count": 111,
   "id": "78bde030-5e82-45a1-9e72-8e89226fac78",
   "metadata": {},
   "outputs": [
    {
     "data": {
      "image/png": "[encoded data removed]",
      "text/plain": [
       "<Figure size 720x360 with 1 Axes>"
      ]
     },
     "metadata": {
      "needs_background": "light"
     },
     "output_type": "display_data"
    }
   ],
   "source": [
    "plt.figure(figsize=(10, 5))\n",
    "plt.scatter(x, y, alpha=0.4)\n",
    "plt.plot(np.array(plt.xlim()), np.array(plt.xlim()) * b1 + b0, c='r', lw=3)\n",
    "\n",
    "for _x, _y in zip(x, y):\n",
    "    y_hat = _x * b1 + b0\n",
    "    plt.plot([_x, _x], [_y, y_hat], alpha=.3, c='grey', lw=1)\n",
    "\n",
    "plt.title(\"Distribution of the values\")\n",
    "plt.show()"
   ]
  },
  {
   "cell_type": "code",
   "execution_count": 112,
   "id": "b3211a0b-4d34-40d7-98d0-c5f1765dc113",
   "metadata": {},
   "outputs": [
    {
     "data": {
      "text/plain": [
       "1034.4160446891703"
      ]
     },
     "execution_count": 112,
     "metadata": {},
     "output_type": "execute_result"
    }
   ],
   "source": [
    "rss = np.sum((y - (x * b1 + b0)) ** 2)\n",
    "rss"
   ]
  },
  {
   "cell_type": "code",
   "execution_count": 113,
   "id": "94c83558-47c6-4dff-b457-6d466ce9f734",
   "metadata": {},
   "outputs": [
    {
     "data": {
      "text/plain": [
       "3.2488868496970453"
      ]
     },
     "execution_count": 113,
     "metadata": {},
     "output_type": "execute_result"
    }
   ],
   "source": [
    "rse = np.sqrt(rss / (x.shape[0] - 2))\n",
    "rse"
   ]
  },
  {
   "cell_type": "code",
   "execution_count": 114,
   "id": "223a015d-4b6e-42c6-9f93-69f1ba6b4e87",
   "metadata": {},
   "outputs": [
    {
     "data": {
      "text/plain": [
       "(0.415940175577177, 0.012415500718233325)"
      ]
     },
     "execution_count": 114,
     "metadata": {},
     "output_type": "execute_result"
    }
   ],
   "source": [
    "se_0 = rse ** 2 * ((1 / x.shape[0]) + (x_mean ** 2) / np.sum((x - x_mean) ** 2))\n",
    "se_1 = (rse ** 2) / np.sum((x - x_mean) ** 2)\n",
    "\n",
    "se_0, se_1"
   ]
  },
  {
   "cell_type": "code",
   "execution_count": 115,
   "id": "389165e8-83d0-4a70-aad0-3d7b5ea8009a",
   "metadata": {},
   "outputs": [
    {
     "data": {
      "text/plain": [
       "12.181192694650209"
      ]
     },
     "execution_count": 115,
     "metadata": {},
     "output_type": "execute_result"
    }
   ],
   "source": [
    "t = b1 / np.sqrt(se_1)\n",
    "t"
   ]
  },
  {
   "cell_type": "markdown",
   "id": "80ef11c0-eac7-4086-912d-92b14d0efb5b",
   "metadata": {},
   "source": [
    "> $\\hat{\\beta}_1$ is approximately 12 standard errors $se(\\hat{\\beta}_1)$ away from 0"
   ]
  },
  {
   "cell_type": "code",
   "execution_count": 118,
   "id": "018fb62f-c1c2-4f16-adaa-06dfbc57b1c0",
   "metadata": {},
   "outputs": [
    {
     "name": "stdout",
     "output_type": "stream",
     "text": [
      "Rejection area: (inf; -1.9844674544266925] u [1.984467454426692;inf)\n"
     ]
    }
   ],
   "source": [
    "alpha = 0.05\n",
    "c_left = stats.t(x.shape[0] - 2).ppf(alpha / 2)\n",
    "c_right = stats.t(x.shape[0] - 2).ppf(1 - alpha / 2)\n",
    "\n",
    "print(f\"Rejection area: (inf; {c_left}] u [{c_right};inf)\")"
   ]
  },
  {
   "cell_type": "code",
   "execution_count": 119,
   "id": "441c5612-b9ac-421b-b83f-090a9166284e",
   "metadata": {},
   "outputs": [
    {
     "name": "stdout",
     "output_type": "stream",
     "text": [
      "P-Value:            0.0\n",
      "Significant result: True\n"
     ]
    }
   ],
   "source": [
    "p_value = 2 * (1 - stats.t(x.shape[0] - 2).cdf(t))\n",
    "print(f\"P-Value:            {p_value}\")\n",
    "print(f\"Significant result: {p_value < alpha}\")"
   ]
  },
  {
   "cell_type": "markdown",
   "id": "2cfc95e7-9b5e-4623-8ae8-1407879710f7",
   "metadata": {},
   "source": [
    "## Confidence interval for coefficients\n",
    "\n",
    "$$\n",
    "\\Bigl[ \\hat{\\beta}_1 - t_{n - 2; 1 - \\frac{\\alpha}{2}} * se(\\hat{\\beta}_1); \\hat{\\beta}_1 + t_{n - 2; 1 - \\frac{\\alpha}{2}} * se(\\hat{\\beta}_1) \\Bigr]\n",
    "$$"
   ]
  },
  {
   "cell_type": "code",
   "execution_count": 120,
   "id": "fa64e531-8619-4e93-b1cd-33fae59190f8",
   "metadata": {},
   "outputs": [
    {
     "name": "stdout",
     "output_type": "stream",
     "text": [
      "Confidence Interval for coefficient 1: [1.1361687414769794; 1.5784067810592983]\n"
     ]
    }
   ],
   "source": [
    "t = stats.t(x.shape[0] - 2).ppf(1 - alpha / 2)\n",
    "lo = b1 - t * np.sqrt(se_1)\n",
    "up = b1 + t * np.sqrt(se_1)\n",
    "\n",
    "print(f\"Confidence Interval for coefficient 1: [{lo}; {up}]\")"
   ]
  },
  {
   "cell_type": "markdown",
   "id": "dd4e4c2c-0e16-41aa-bb59-8d9384d0f8f2",
   "metadata": {},
   "source": [
    "## Model Assumptions fro the Error Terms\n",
    "\n",
    "The error terms $\\epsilon_i$ are independent and normally distributed random variables with a constant variance\n",
    "$$\n",
    "\\epsilon_i \\sim N(0, \\sigma^2)\n",
    "$$\n",
    "\n",
    "1. For the expected value of all $\\epsilon_i$ we have $$E(\\epsilon_i) = 0$$\n",
    "2. The error terms $\\epsilon_i$ all have the same constant variance $$Var(\\epsilon_i) = \\sigma^2$$\n",
    "3. The error terms $\\epsilon_i$ are normally distributed\n",
    "4. The error terms $\\epsilon_i$ are independent"
   ]
  },
  {
   "cell_type": "markdown",
   "id": "07ab589f-4066-4ed0-b889-2996ab1fd6d9",
   "metadata": {},
   "source": [
    "## R-squared Statistic\n",
    "\n",
    "The $R^2$ statistic provides an alternative measure of fit\n",
    "$$\n",
    "R^2 = 1 - \\frac{\\sum_{i = 1}^n(y_i - \\hat{y}_i)^2}{\\sum_{i=1}^n(y_i - \\bar{y})^2} = 1 - \\frac{\\text{variance left after regression fit}}{\\text{total variance}}\n",
    "$$\n",
    "\n",
    "- $R^2$ takes the form of a proportion - the proportion of variance explained: $R^2$ always takes on a value between 0 and 1, and is independent of the scale of Y\n",
    "- If model fits perfectly the data, then $\\hat{y}_i = y_i$ for all $i$ $\\Rightarrow R^2 = 1$ "
   ]
  },
  {
   "cell_type": "code",
   "execution_count": 121,
   "id": "1bb6fe9f-bee0-4d9d-8a3b-d8402f94d4b9",
   "metadata": {},
   "outputs": [
    {
     "name": "stdout",
     "output_type": "stream",
     "text": [
      "R-Squared: 0.6003644390601466\n"
     ]
    }
   ],
   "source": [
    "y_hat = func(x)\n",
    "r_squared = 1 - np.sum((y - y_hat) ** 2) / np.sum((y - y_mean) ** 2)\n",
    "print(f\"R-Squared: {r_squared}\")"
   ]
  },
  {
   "cell_type": "markdown",
   "id": "6aec0390-0b7d-46b5-9e06-b39bc04716cd",
   "metadata": {},
   "source": [
    "## Diagnostics Tools\n",
    "\n",
    "### Testing Model Assumtion expected value of error terms\n",
    "\n",
    "We want to identify non-linearity of the regression function $f$, that is, we want to verify model assumption $E(\\epsilon) = 0$. The relevant residual plot is called **Turkey-Anscombe-Plot**\n",
    "\n",
    "- We plot on the vertical axis the residuals $r_i = y_i - \\hat{y}_i$\n",
    "- We plot on the horizontal axis the fitted or predicted values $\\hat{y}_i$\n",
    "- We thus plot the points $(\\hat{y}_i, r_i)$ for $i = 1, \\dots, n$\n"
   ]
  },
  {
   "cell_type": "code",
   "execution_count": 122,
   "id": "825dac4c-e1a9-422e-bb0f-fea533eb08e5",
   "metadata": {},
   "outputs": [
    {
     "data": {
      "image/png": "[encoded data removed]",
      "text/plain": [
       "<Figure size 720x360 with 1 Axes>"
      ]
     },
     "metadata": {
      "needs_background": "light"
     },
     "output_type": "display_data"
    }
   ],
   "source": [
    "n = x.shape[0]\n",
    "r = y - y_hat\n",
    "rse = np.sqrt(1 / (n - 2) * np.sum(r ** 2))\n",
    "\n",
    "# Turkey-Anscombe plot\n",
    "plt.figure(figsize=(10, 5))\n",
    "plt.scatter(y_hat, r)\n",
    "\n",
    "res = loess_1d(y_hat, r)  # smoothing approach\n",
    "plt.scatter(res[0], res[1])\n",
    "\n",
    "plt.xlabel(\"Fitted values\")\n",
    "plt.ylabel(\"Residuals\")\n",
    "plt.title(\"Turkey-Anscombe-Plot\")\n",
    "plt.grid()\n",
    "plt.show()"
   ]
  },
  {
   "cell_type": "markdown",
   "id": "c41bda14-dac8-4e74-9518-5be31577a40d",
   "metadata": {},
   "source": [
    "Non-constant variances in the errors $\\epsilon_i$: **heteroscedasticity**"
   ]
  },
  {
   "cell_type": "markdown",
   "id": "732d8db2-12bf-4fc9-87eb-a1c8468e5acf",
   "metadata": {},
   "source": [
    "## Scale Location Plot\n",
    "- Measure of scattering amplitude of errors: square root of the absolute value of the standardized residuals, that is $$\\sqrt{|\\tilde{r}_i|}$$\n",
    "- Standardized residuals $\\tilde{r}_i$ are defined as follows $$\\tilde{r}_i = \\frac{r_i}{\\hat{\\sigma}\\sqrt{1 - \\Bigl(\\frac{1}{n} + \\frac{(x_i - \\bar{x}^2)}{\\sum_{i=1}^n(x_i - \\bar{x})^2}\\Bigr)}}$$\n",
    "- $\\hat{\\sigma}$: Estimate of standard deviation of error terms (estimated by RSE)\n",
    "- If error terms $\\epsilon_i$ are normally distributed, then $$\\tilde{r}_i \\sim N(0, 1)$$"
   ]
  },
  {
   "cell_type": "code",
   "execution_count": 127,
   "id": "945eb053-9157-4419-8942-6aad31adb596",
   "metadata": {},
   "outputs": [
    {
     "data": {
      "image/png": "[encoded data removed]",
      "text/plain": [
       "<Figure size 720x360 with 1 Axes>"
      ]
     },
     "metadata": {
      "needs_background": "light"
     },
     "output_type": "display_data"
    }
   ],
   "source": [
    "factor = np.sqrt(1 - (1 / x.shape[0] + (x - x_mean) ** 2 / (np.sum((x - x_mean) ** 2)) * rse))\n",
    "std_r = r / factor\n",
    "res = loess_1d(y_hat, np.sqrt(std_r ** 2))\n",
    "\n",
    "plt.figure(figsize=(10, 5))\n",
    "plt.scatter(y_hat, np.sqrt(std_r ** 2))\n",
    "plt.scatter(res[0], res[1])\n",
    "plt.xlabel(\"Fitted values\")\n",
    "plt.ylabel(\"Std. Residuals\")\n",
    "plt.title(\"Scale-Location-Plot\")\n",
    "plt.grid()\n",
    "plt.show()"
   ]
  },
  {
   "cell_type": "markdown",
   "id": "fbfc6105-f105-4405-8c5b-b79760cc8d22",
   "metadata": {},
   "source": [
    "### Normal Distribution Assumption of the Errors"
   ]
  },
  {
   "cell_type": "code",
   "execution_count": 128,
   "id": "647c64ab-4b3c-4891-b8da-66cd4380aa5e",
   "metadata": {},
   "outputs": [
    {
     "data": {
      "image/png": "[encoded data removed]",
      "text/plain": [
       "<Figure size 720x360 with 1 Axes>"
      ]
     },
     "metadata": {
      "needs_background": "light"
     },
     "output_type": "display_data"
    }
   ],
   "source": [
    "plt.figure(figsize=(10, 5))\n",
    "stats.probplot(r, plot=plt.gca())\n",
    "\n",
    "plt.title(\"Q-Q-Plot\")\n",
    "plt.grid()\n",
    "plt.show()"
   ]
  },
  {
   "cell_type": "code",
   "execution_count": null,
   "id": "4fac4be4-9f98-4cf7-a1a3-c3c72300126a",
   "metadata": {},
   "outputs": [],
   "source": []
  }
 ],
 "metadata": {
  "kernelspec": {
   "display_name": "Python 3 (ipykernel)",
   "language": "python",
   "name": "python3"
  },
  "language_info": {
   "codemirror_mode": {
    "name": "ipython",
    "version": 3
   },
   "file_extension": ".py",
   "mimetype": "text/x-python",
   "name": "python",
   "nbconvert_exporter": "python",
   "pygments_lexer": "ipython3",
   "version": "3.9.13"
  }
 },
 "nbformat": 4,
 "nbformat_minor": 5
}
